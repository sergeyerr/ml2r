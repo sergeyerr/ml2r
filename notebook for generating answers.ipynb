{
 "cells": [
  {
   "cell_type": "code",
   "execution_count": 5,
   "id": "232493e5",
   "metadata": {},
   "outputs": [],
   "source": [
    "from ShakerBFDProMax import ShakerBFDProMax\n",
    "from converterFromRectPack import convert\n",
    "from Base.bpReadWrite import ReadWrite"
   ]
  },
  {
   "cell_type": "code",
   "execution_count": 14,
   "id": "12a68609",
   "metadata": {},
   "outputs": [],
   "source": [
    "from rectpack import SORT_AREA, PackingMode, PackingBin, newPacker\n",
    "\n",
    "from rectpack import (MaxRectsBl, MaxRectsBssf, MaxRectsBaf, MaxRectsBlsf,\n",
    "SkylineBl, SkylineBlWm, SkylineMwf, SkylineMwfl, SkylineMwfWm, SkylineMwflWm,\n",
    "GuillotineBssfSas, GuillotineBssfSlas, GuillotineBssfLlas, GuillotineBssfMaxas,\n",
    "GuillotineBssfMinas, GuillotineBlsfSas, GuillotineBlsfLas, GuillotineBlsfSlas, GuillotineBlsfLlas, \n",
    "                     GuillotineBlsfMaxas, GuillotineBlsfMinas, GuillotineBafSas, GuillotineBafLas,\n",
    "                     GuillotineBafSlas, GuillotineBafLlas, GuillotineBafMaxas, GuillotineBafMinas)"
   ]
  },
  {
   "cell_type": "code",
   "execution_count": 7,
   "id": "55da5b80",
   "metadata": {},
   "outputs": [],
   "source": [
    "from os import path, listdir, mkdir"
   ]
  },
  {
   "cell_type": "code",
   "execution_count": 9,
   "id": "4c7401f0",
   "metadata": {},
   "outputs": [],
   "source": [
    "input_folder = './our_tests'\n",
    "output_folder = './results'"
   ]
  },
  {
   "cell_type": "code",
   "execution_count": 10,
   "id": "06421273",
   "metadata": {},
   "outputs": [],
   "source": [
    "cases = []\n",
    "for f in listdir(input_folder):\n",
    "    cases.append(f)"
   ]
  },
  {
   "cell_type": "code",
   "execution_count": 11,
   "id": "46cb04d2",
   "metadata": {},
   "outputs": [],
   "source": [
    "if not path.exists(output_folder):\n",
    "    mkdir(output_folder)"
   ]
  },
  {
   "cell_type": "code",
   "execution_count": 18,
   "id": "0f80c935",
   "metadata": {},
   "outputs": [],
   "source": [
    "def solve(test_state):\n",
    "    packer = ShakerBFDProMax(pack_algo=GuillotineBafMinas, rotation = False)\n",
    "    for box in test_state.boxes_open:\n",
    "        packer.add_rect(box.w, box.h)\n",
    "    # Add the bins where the rectangles will be placed\n",
    "    packer.add_bin(*test_state.bin_size, float(\"inf\"))\n",
    "    packer.pack()\n",
    "    solution = convert(packer, test_case.bin_size)\n",
    "    return solution"
   ]
  },
  {
   "cell_type": "code",
   "execution_count": 20,
   "id": "e124b8ab",
   "metadata": {},
   "outputs": [],
   "source": [
    "for case in cases:\n",
    "    test_case = ReadWrite.read_state(path=path.join(input_folder, case))\n",
    "    solution = solve(test_case)\n",
    "    test_case = ReadWrite.read_state(path=path.join(input_folder, case))\n",
    "    if not solution.is_valid(test_case):\n",
    "        print(f'alarm, wrong solution!!! on {case}')\n",
    "        break\n",
    "    \n",
    "    ReadWrite.write_state(path=path.join(output_folder, case), state=solution)"
   ]
  },
  {
   "cell_type": "code",
   "execution_count": null,
   "id": "2fae6bca",
   "metadata": {},
   "outputs": [],
   "source": []
  }
 ],
 "metadata": {
  "kernelspec": {
   "display_name": "Python 3 (ipykernel)",
   "language": "python",
   "name": "python3"
  },
  "language_info": {
   "codemirror_mode": {
    "name": "ipython",
    "version": 3
   },
   "file_extension": ".py",
   "mimetype": "text/x-python",
   "name": "python",
   "nbconvert_exporter": "python",
   "pygments_lexer": "ipython3",
   "version": "3.8.5"
  }
 },
 "nbformat": 4,
 "nbformat_minor": 5
}
