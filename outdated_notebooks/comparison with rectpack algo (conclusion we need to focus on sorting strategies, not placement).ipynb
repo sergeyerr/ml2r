{
 "cells": [
  {
   "cell_type": "code",
   "execution_count": 1,
   "id": "fcd6def9",
   "metadata": {},
   "outputs": [],
   "source": [
    "import Base.bp2DState\n",
    "from Base.bp2DSimpleHeuristics import single_type_heuristic, first_fit, next_fit, most_enclosed_position, max_rest, \\\n",
    "    best_fit, first_fit_decreasing, next_fit_decreasing, get_all_heuristics, random_fit\n",
    "from Base.bp2DState import State\n",
    "from Base.bpReadWrite import ReadWrite\n",
    "from Base.bp2DBox import Box\n",
    "from Base.bpStateGenerators import random_state_generator, state_generator\n",
    "import time\n",
    "\n",
    "from Base.bp2DPlot import plot_packing_state\n",
    "from Base.bp2DSimpleHeuristicsFunctions import most_enclosed_position_in_bin\n",
    "from Base.bp2DState import Bin\n",
    "from Base.bp2DState import Action, State\n",
    "from Base.bpUtil import *\n",
    "from Base.bpStateGenerators import random_state_generator\n",
    "import matplotlib.pyplot as plt"
   ]
  },
  {
   "cell_type": "code",
   "execution_count": 21,
   "id": "ca7c3b4e",
   "metadata": {},
   "outputs": [],
   "source": [
    "def ffd_shaker_pro(state: State, plot_result=False, plot_steps=False, plot_name=None, speed_mode = False):\n",
    "    '''ffd shaker'''\n",
    "    start = time.time()\n",
    "    step = 0\n",
    "    name = 'ffd_shaker_pro_plot'\n",
    "    if plot_name is not None:\n",
    "        name = plot_name\n",
    "    # i tried both w and h in key, it doesn't work. Area is the best\n",
    "    sort_boxes_in_state(state, keyfkt = lambda x: (x.a))\n",
    "    fill_state = 0\n",
    "    last_bin = 0\n",
    "    while state.has_open_boxes():\n",
    "        box = state.get_next_open_box()\n",
    "        \n",
    "        if fill_state == 2:\n",
    "        # in this state we try to fit smallest containers in remaining space, without creating new bins\n",
    "            placement_success = False\n",
    "            for i in range(last_bin, len(state.bins)):\n",
    "                placement_success = state.place_box_in_bin(box, i)\n",
    "                if placement_success:\n",
    "                    break\n",
    "\n",
    "            if not placement_success:\n",
    "                state.boxes_open = state.boxes_open[::-1]\n",
    "                fill_state = False\n",
    "                if speed_mode:\n",
    "                    last_bin = len(state.bins) - 1\n",
    "                    \n",
    "        else:\n",
    "         # in this state we create containers, until find the container, which fits into created bins \n",
    "            placement_success = False\n",
    "            for i in range(last_bin, len(state.bins)):\n",
    "                placement_success = state.place_box_in_bin(box, i)\n",
    "                if placement_success:\n",
    "                        fill_state = 1\n",
    "                        break\n",
    "\n",
    "            if not placement_success:\n",
    "                if fill_state == 0:\n",
    "                    state.open_new_bin()\n",
    "                    state.place_box_in_bin_at_pnt(box, -1, Point(0, 0))\n",
    "                elif fill_state == 1:\n",
    "                    state.boxes_open = state.boxes_open[::-1]\n",
    "                    fill_state = 2\n",
    "            \n",
    "\n",
    "        if plot_steps:\n",
    "            plot_packing_state(state=state, step=step, fname=f\"./vis/{name}_step\")\n",
    "            step += 1\n",
    "    if plot_result:\n",
    "        plot_packing_state(state, fname=f\"./vis/{name}_result\")\n",
    "    state.solution_runtime = time.time() - start"
   ]
  },
  {
   "cell_type": "markdown",
   "id": "4c8cbcd0",
   "metadata": {},
   "source": [
    "### medium data"
   ]
  },
  {
   "cell_type": "code",
   "execution_count": 94,
   "id": "6d6a21c8",
   "metadata": {},
   "outputs": [],
   "source": [
    "count = 1000\n",
    "test_state = random_state_generator((10, 10),count,4,7,4,7)\n",
    "path = f\"test_instances/medium_{count}\"\n",
    "    \n",
    "ReadWrite.write_state(path=path, state=test_state)"
   ]
  },
  {
   "cell_type": "markdown",
   "id": "e1c43755",
   "metadata": {},
   "source": [
    "### extreme"
   ]
  },
  {
   "cell_type": "code",
   "execution_count": 83,
   "id": "9bd6e7cf",
   "metadata": {},
   "outputs": [],
   "source": [
    "count = 1000\n",
    "test_state = random_state_generator((10, 10),count // 2,1,3,1,3)\n",
    "for box in random_state_generator((10, 10),count // 2,8,10,8,10).boxes_open:\n",
    "    test_state.append_open_box(box)\n",
    "path = f\"test_instances/extremes_{count}\"\n",
    "    \n",
    "ReadWrite.write_state(path=path, state=test_state)"
   ]
  },
  {
   "cell_type": "markdown",
   "id": "e11017ca",
   "metadata": {},
   "source": [
    "### uniform"
   ]
  },
  {
   "cell_type": "code",
   "execution_count": 106,
   "id": "115f99e2",
   "metadata": {},
   "outputs": [],
   "source": [
    "count = 1000\n",
    "test_state = random_state_generator((10, 10),count,2,8,2,8)\n",
    "path = f\"test_instances/uniform_{count}\"\n",
    "    \n",
    "ReadWrite.write_state(path=path, state=test_state)"
   ]
  },
  {
   "cell_type": "markdown",
   "id": "fb0a3606",
   "metadata": {},
   "source": [
    "### small"
   ]
  },
  {
   "cell_type": "code",
   "execution_count": null,
   "id": "1c23bc2d",
   "metadata": {},
   "outputs": [],
   "source": [
    "count = 1000\n",
    "test_state = random_state_generator((10, 10),count,1,3,2,8)\n",
    "path = f\"test_instances/small_{count}\"\n",
    "    \n",
    "ReadWrite.write_state(path=path, state=test_state)"
   ]
  },
  {
   "cell_type": "code",
   "execution_count": 107,
   "id": "990eedb6",
   "metadata": {},
   "outputs": [
    {
     "name": "stdout",
     "output_type": "stream",
     "text": [
      "253\n"
     ]
    }
   ],
   "source": [
    "solution_pro = ReadWrite.read_state(path)\n",
    "ffd_shaker_pro(solution_pro , speed_mode = True)\n",
    "#print(f\"Is solution of {'shaker ffd'} valid? {solution.is_valid(init)}!\")\n",
    "print(f\"{len(solution_pro.bins)}\")\n",
    "\n",
    "# density_shaker_pro = []\n",
    "# solution = solution_pro\n",
    "# density = density_shaker_pro\n",
    "# for binn in solution.bins:\n",
    "#     density.append((100 - binn.capacity_available()) / 100)\n",
    "# #density = sorted(density, key = lambda x: -x)\n",
    "# plt.figure(figsize=(16,8))\n",
    "# plt.ylim(bottom=0)\n",
    "# plt.plot(density);"
   ]
  },
  {
   "cell_type": "code",
   "execution_count": 108,
   "id": "343f7a98",
   "metadata": {},
   "outputs": [],
   "source": [
    "from rectpack import SORT_AREA, PackingMode, PackingBin"
   ]
  },
  {
   "cell_type": "code",
   "execution_count": 109,
   "id": "50621c74",
   "metadata": {},
   "outputs": [],
   "source": [
    "from rectpack import newPacker\n",
    "#even with adjustements\n",
    "packer = newPacker(mode=PackingMode.Offline,bin_algo = PackingBin.BBF, sort_algo= SORT_AREA, rotation = False)\n",
    "for box in test_state.boxes_open:\n",
    "    packer.add_rect(box.w, box.h)\n",
    "# Add the bins where the rectangles will be placed\n",
    "packer.add_bin(*test_state.bin_size, float(\"inf\"))"
   ]
  },
  {
   "cell_type": "code",
   "execution_count": 110,
   "id": "9ab1d796",
   "metadata": {},
   "outputs": [],
   "source": [
    "packer.pack()"
   ]
  },
  {
   "cell_type": "code",
   "execution_count": 111,
   "id": "c3563164",
   "metadata": {},
   "outputs": [],
   "source": [
    "nbins = len(packer)"
   ]
  },
  {
   "cell_type": "code",
   "execution_count": 112,
   "id": "f855acf6",
   "metadata": {},
   "outputs": [
    {
     "data": {
      "text/plain": [
       "251"
      ]
     },
     "execution_count": 112,
     "metadata": {},
     "output_type": "execute_result"
    }
   ],
   "source": [
    "len(packer)"
   ]
  },
  {
   "cell_type": "code",
   "execution_count": 113,
   "id": "badf1eed",
   "metadata": {},
   "outputs": [],
   "source": [
    "from rectpack import (MaxRectsBl, MaxRectsBssf, MaxRectsBaf, MaxRectsBlsf,\n",
    "SkylineBl, SkylineBlWm, SkylineMwf, SkylineMwfl, SkylineMwfWm, SkylineMwflWm,\n",
    "GuillotineBssfSas, GuillotineBssfSlas, GuillotineBssfLlas, GuillotineBssfMaxas,\n",
    "GuillotineBssfMinas, GuillotineBlsfSas, GuillotineBlsfLas, GuillotineBlsfSlas, GuillotineBlsfLlas, \n",
    "                     GuillotineBlsfMaxas, GuillotineBlsfMinas, GuillotineBafSas, GuillotineBafLas,\n",
    "                     GuillotineBafSlas, GuillotineBafLlas, GuillotineBafMaxas, GuillotineBafMinas)"
   ]
  },
  {
   "cell_type": "code",
   "execution_count": 114,
   "id": "df60b771",
   "metadata": {},
   "outputs": [],
   "source": [
    "algos = (MaxRectsBl, MaxRectsBssf, MaxRectsBaf, MaxRectsBlsf,\n",
    "SkylineBl, SkylineBlWm, SkylineMwf, SkylineMwfl, SkylineMwfWm, SkylineMwflWm,\n",
    "GuillotineBssfSas, GuillotineBssfSlas, GuillotineBssfLlas, GuillotineBssfMaxas,\n",
    "GuillotineBssfMinas, GuillotineBlsfSas, GuillotineBlsfLas, GuillotineBlsfSlas, GuillotineBlsfLlas, \n",
    "                     GuillotineBlsfMaxas, GuillotineBlsfMinas, GuillotineBafSas, GuillotineBafLas,\n",
    "                     GuillotineBafSlas, GuillotineBafLlas, GuillotineBafMaxas, GuillotineBafMinas)"
   ]
  },
  {
   "cell_type": "code",
   "execution_count": 115,
   "id": "c21c0d00",
   "metadata": {},
   "outputs": [],
   "source": [
    "bin_algos = [PackingBin.BFF, PackingBin.BBF, PackingBin.Global]"
   ]
  },
  {
   "cell_type": "code",
   "execution_count": 116,
   "id": "022aabf5",
   "metadata": {},
   "outputs": [
    {
     "name": "stdout",
     "output_type": "stream",
     "text": [
      "(<class 'rectpack.maxrects.MaxRectsBl'>, 1, 251)\n",
      "(<class 'rectpack.maxrects.MaxRectsBl'>, 2, 251)\n",
      "(<class 'rectpack.maxrects.MaxRectsBl'>, 3, 268)\n",
      "(<class 'rectpack.maxrects.MaxRectsBssf'>, 1, 251)\n",
      "(<class 'rectpack.maxrects.MaxRectsBssf'>, 2, 251)\n",
      "(<class 'rectpack.maxrects.MaxRectsBssf'>, 3, 265)\n",
      "(<class 'rectpack.maxrects.MaxRectsBaf'>, 1, 251)\n",
      "(<class 'rectpack.maxrects.MaxRectsBaf'>, 2, 250)\n",
      "(<class 'rectpack.maxrects.MaxRectsBaf'>, 3, 251)\n",
      "(<class 'rectpack.maxrects.MaxRectsBlsf'>, 1, 251)\n",
      "(<class 'rectpack.maxrects.MaxRectsBlsf'>, 2, 251)\n",
      "(<class 'rectpack.maxrects.MaxRectsBlsf'>, 3, 251)\n",
      "(<class 'rectpack.skyline.SkylineBl'>, 1, 254)\n",
      "(<class 'rectpack.skyline.SkylineBl'>, 2, 261)\n",
      "(<class 'rectpack.skyline.SkylineBl'>, 3, 326)\n",
      "(<class 'rectpack.skyline.SkylineBlWm'>, 1, 254)\n",
      "(<class 'rectpack.skyline.SkylineBlWm'>, 2, 259)\n",
      "(<class 'rectpack.skyline.SkylineBlWm'>, 3, 326)\n",
      "(<class 'rectpack.skyline.SkylineMwf'>, 1, 254)\n",
      "(<class 'rectpack.skyline.SkylineMwf'>, 2, 253)\n",
      "(<class 'rectpack.skyline.SkylineMwf'>, 3, 273)\n",
      "(<class 'rectpack.skyline.SkylineMwfl'>, 1, 254)\n",
      "(<class 'rectpack.skyline.SkylineMwfl'>, 2, 259)\n",
      "(<class 'rectpack.skyline.SkylineMwfl'>, 3, 330)\n",
      "(<class 'rectpack.skyline.SkylineMwfWm'>, 1, 254)\n",
      "(<class 'rectpack.skyline.SkylineMwfWm'>, 2, 253)\n",
      "(<class 'rectpack.skyline.SkylineMwfWm'>, 3, 273)\n",
      "(<class 'rectpack.skyline.SkylineMwflWm'>, 1, 254)\n",
      "(<class 'rectpack.skyline.SkylineMwflWm'>, 2, 259)\n",
      "(<class 'rectpack.skyline.SkylineMwflWm'>, 3, 330)\n",
      "(<class 'rectpack.guillotine.GuillotineBssfSas'>, 1, 252)\n",
      "(<class 'rectpack.guillotine.GuillotineBssfSas'>, 2, 253)\n",
      "(<class 'rectpack.guillotine.GuillotineBssfSas'>, 3, 279)\n",
      "(<class 'rectpack.guillotine.GuillotineBssfSlas'>, 1, 253)\n",
      "(<class 'rectpack.guillotine.GuillotineBssfSlas'>, 2, 253)\n",
      "(<class 'rectpack.guillotine.GuillotineBssfSlas'>, 3, 264)\n",
      "(<class 'rectpack.guillotine.GuillotineBssfLlas'>, 1, 251)\n",
      "(<class 'rectpack.guillotine.GuillotineBssfLlas'>, 2, 251)\n",
      "(<class 'rectpack.guillotine.GuillotineBssfLlas'>, 3, 294)\n",
      "(<class 'rectpack.guillotine.GuillotineBssfMaxas'>, 1, 251)\n",
      "(<class 'rectpack.guillotine.GuillotineBssfMaxas'>, 2, 251)\n",
      "(<class 'rectpack.guillotine.GuillotineBssfMaxas'>, 3, 294)\n",
      "(<class 'rectpack.guillotine.GuillotineBssfMinas'>, 1, 251)\n",
      "(<class 'rectpack.guillotine.GuillotineBssfMinas'>, 2, 251)\n",
      "(<class 'rectpack.guillotine.GuillotineBssfMinas'>, 3, 264)\n",
      "(<class 'rectpack.guillotine.GuillotineBlsfSas'>, 1, 252)\n",
      "(<class 'rectpack.guillotine.GuillotineBlsfSas'>, 2, 250)\n",
      "(<class 'rectpack.guillotine.GuillotineBlsfSas'>, 3, 254)\n",
      "(<class 'rectpack.guillotine.GuillotineBlsfLas'>, 1, 252)\n",
      "(<class 'rectpack.guillotine.GuillotineBlsfLas'>, 2, 252)\n",
      "(<class 'rectpack.guillotine.GuillotineBlsfLas'>, 3, 256)\n",
      "(<class 'rectpack.guillotine.GuillotineBlsfSlas'>, 1, 253)\n",
      "(<class 'rectpack.guillotine.GuillotineBlsfSlas'>, 2, 250)\n",
      "(<class 'rectpack.guillotine.GuillotineBlsfSlas'>, 3, 254)\n",
      "(<class 'rectpack.guillotine.GuillotineBlsfLlas'>, 1, 251)\n",
      "(<class 'rectpack.guillotine.GuillotineBlsfLlas'>, 2, 251)\n",
      "(<class 'rectpack.guillotine.GuillotineBlsfLlas'>, 3, 257)\n",
      "(<class 'rectpack.guillotine.GuillotineBlsfMaxas'>, 1, 251)\n",
      "(<class 'rectpack.guillotine.GuillotineBlsfMaxas'>, 2, 251)\n",
      "(<class 'rectpack.guillotine.GuillotineBlsfMaxas'>, 3, 257)\n",
      "(<class 'rectpack.guillotine.GuillotineBlsfMinas'>, 1, 251)\n",
      "(<class 'rectpack.guillotine.GuillotineBlsfMinas'>, 2, 250)\n",
      "(<class 'rectpack.guillotine.GuillotineBlsfMinas'>, 3, 257)\n",
      "(<class 'rectpack.guillotine.GuillotineBafSas'>, 1, 252)\n",
      "(<class 'rectpack.guillotine.GuillotineBafSas'>, 2, 250)\n",
      "(<class 'rectpack.guillotine.GuillotineBafSas'>, 3, 251)\n",
      "(<class 'rectpack.guillotine.GuillotineBafLas'>, 1, 252)\n",
      "(<class 'rectpack.guillotine.GuillotineBafLas'>, 2, 251)\n",
      "(<class 'rectpack.guillotine.GuillotineBafLas'>, 3, 250)\n",
      "(<class 'rectpack.guillotine.GuillotineBafSlas'>, 1, 253)\n",
      "(<class 'rectpack.guillotine.GuillotineBafSlas'>, 2, 250)\n",
      "(<class 'rectpack.guillotine.GuillotineBafSlas'>, 3, 251)\n",
      "(<class 'rectpack.guillotine.GuillotineBafLlas'>, 1, 251)\n",
      "(<class 'rectpack.guillotine.GuillotineBafLlas'>, 2, 251)\n",
      "(<class 'rectpack.guillotine.GuillotineBafLlas'>, 3, 251)\n",
      "(<class 'rectpack.guillotine.GuillotineBafMaxas'>, 1, 251)\n",
      "(<class 'rectpack.guillotine.GuillotineBafMaxas'>, 2, 251)\n",
      "(<class 'rectpack.guillotine.GuillotineBafMaxas'>, 3, 251)\n",
      "(<class 'rectpack.guillotine.GuillotineBafMinas'>, 1, 251)\n",
      "(<class 'rectpack.guillotine.GuillotineBafMinas'>, 2, 250)\n",
      "(<class 'rectpack.guillotine.GuillotineBafMinas'>, 3, 252)\n"
     ]
    }
   ],
   "source": [
    "res = []\n",
    "for algo in algos:\n",
    "    for bin_algo in bin_algos:\n",
    "        packer = newPacker(mode=PackingMode.Offline, pack_algo=algo,bin_algo = bin_algo,  sort_algo= SORT_AREA, rotation = False)\n",
    "        for box in test_state.boxes_open:\n",
    "            packer.add_rect(box.w, box.h)\n",
    "        # Add the bins where the rectangles will be placed\n",
    "        packer.add_bin(*test_state.bin_size, float(\"inf\"))\n",
    "        packer.pack()\n",
    "        res.append((algo,bin_algo, len(packer)))\n",
    "        print(res[-1])"
   ]
  },
  {
   "cell_type": "code",
   "execution_count": 117,
   "id": "631d3bdb",
   "metadata": {
    "scrolled": true
   },
   "outputs": [
    {
     "data": {
      "text/plain": [
       "2"
      ]
     },
     "execution_count": 117,
     "metadata": {},
     "output_type": "execute_result"
    }
   ],
   "source": [
    "PackingBin.BBF"
   ]
  },
  {
   "cell_type": "code",
   "execution_count": null,
   "id": "8896ce60",
   "metadata": {},
   "outputs": [],
   "source": []
  }
 ],
 "metadata": {
  "kernelspec": {
   "display_name": "Python 3 (ipykernel)",
   "language": "python",
   "name": "python3"
  },
  "language_info": {
   "codemirror_mode": {
    "name": "ipython",
    "version": 3
   },
   "file_extension": ".py",
   "mimetype": "text/x-python",
   "name": "python",
   "nbconvert_exporter": "python",
   "pygments_lexer": "ipython3",
   "version": "3.8.5"
  }
 },
 "nbformat": 4,
 "nbformat_minor": 5
}
