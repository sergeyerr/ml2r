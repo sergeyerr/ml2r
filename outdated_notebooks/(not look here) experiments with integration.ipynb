{
 "cells": [
  {
   "cell_type": "code",
   "execution_count": 37,
   "id": "5efe8e8e",
   "metadata": {},
   "outputs": [],
   "source": [
    "from rectpack.maxrects import MaxRectsBssf\n",
    "\n",
    "import operator\n",
    "import itertools\n",
    "import collections\n",
    "\n",
    "import decimal"
   ]
  },
  {
   "cell_type": "code",
   "execution_count": 38,
   "id": "d2116f95",
   "metadata": {},
   "outputs": [],
   "source": [
    "class BinFactory(object):\n",
    "\n",
    "    def __init__(self, width, height, count, pack_algo, *args, **kwargs):\n",
    "        self._width = width\n",
    "        self._height = height\n",
    "        self._count = count\n",
    "        \n",
    "        self._pack_algo = pack_algo\n",
    "        self._algo_kwargs = kwargs\n",
    "        self._algo_args = args\n",
    "        self._ref_bin = None # Reference bin used to calculate fitness\n",
    "        \n",
    "        self._bid = kwargs.get(\"bid\", None)\n",
    "\n",
    "    def _create_bin(self):\n",
    "        return self._pack_algo(self._width, self._height, *self._algo_args, **self._algo_kwargs)\n",
    "\n",
    "    def is_empty(self):\n",
    "        return self._count<1\n",
    "\n",
    "    def fitness(self, width, height):\n",
    "        if not self._ref_bin:\n",
    "            self._ref_bin = self._create_bin()\n",
    "\n",
    "        return self._ref_bin.fitness(width, height)\n",
    "\n",
    "    def fits_inside(self, width, height):\n",
    "        # Determine if rectangle widthxheight will fit into empty bin\n",
    "        if not self._ref_bin:\n",
    "            self._ref_bin = self._create_bin()\n",
    "\n",
    "        return self._ref_bin._fits_surface(width, height)\n",
    "\n",
    "    def new_bin(self):\n",
    "        if self._count > 0:\n",
    "            self._count -= 1\n",
    "            return self._create_bin()\n",
    "        else:\n",
    "            return None\n",
    "\n",
    "    def __eq__(self, other):\n",
    "        return self._width*self._height == other._width*other._height\n",
    "\n",
    "    def __lt__(self, other):\n",
    "        return self._width*self._height < other._width*other._height\n",
    "\n",
    "    def __str__(self):\n",
    "        return \"Bin: {} {} {}\".format(self._width, self._height, self._count)"
   ]
  },
  {
   "cell_type": "code",
   "execution_count": 39,
   "id": "9e125a61",
   "metadata": {},
   "outputs": [],
   "source": [
    "class PackerOnline(object):\n",
    "    \"\"\"\n",
    "    Rectangles are packed as soon are they are added\n",
    "    \"\"\"\n",
    "\n",
    "    def __init__(self, pack_algo=MaxRectsBssf, rotation=False):\n",
    "        \"\"\"\n",
    "        Arguments:\n",
    "            pack_algo (PackingAlgorithm): What packing algo to use\n",
    "            rotation (bool): Enable/Disable rectangle rotation\n",
    "        \"\"\"\n",
    "        self._rotation = rotation\n",
    "        self._pack_algo = pack_algo\n",
    "        self.reset()\n",
    "\n",
    "    def __iter__(self):\n",
    "        return itertools.chain(self._closed_bins, self._open_bins)\n",
    "\n",
    "    def __len__(self):\n",
    "        return len(self._closed_bins)+len(self._open_bins)\n",
    "    \n",
    "    def __getitem__(self, key):\n",
    "        \"\"\"\n",
    "        Return bin in selected position. (excluding empty bins)\n",
    "        \"\"\"\n",
    "        if not isinstance(key, int):\n",
    "            raise TypeError(\"Indices must be integers\")\n",
    "\n",
    "        size = len(self)  # avoid recalulations\n",
    "\n",
    "        if key < 0:\n",
    "            key += size\n",
    "\n",
    "        if not 0 <= key < size:\n",
    "            raise IndexError(\"Index out of range\")\n",
    "        \n",
    "        if key < len(self._closed_bins):\n",
    "            return self._closed_bins[key]\n",
    "        else:\n",
    "            return self._open_bins[key-len(self._closed_bins)]\n",
    "\n",
    "    def _new_open_bin(self, width=None, height=None, rid=None):\n",
    "        \"\"\"\n",
    "        Extract the next empty bin and append it to open bins\n",
    "        Returns:\n",
    "            PackingAlgorithm: Initialized empty packing bin.\n",
    "            None: No bin big enough for the rectangle was found\n",
    "        \"\"\"\n",
    "        factories_to_delete = set() #\n",
    "        new_bin = None\n",
    "\n",
    "        for key, binfac in self._empty_bins.items():\n",
    "\n",
    "            # Only return the new bin if the rect fits.\n",
    "            # (If width or height is None, caller doesn't know the size.)\n",
    "            if not binfac.fits_inside(width, height):\n",
    "                continue\n",
    "           \n",
    "            # Create bin and add to open_bins\n",
    "            new_bin = binfac.new_bin()\n",
    "            if new_bin is None:\n",
    "                continue\n",
    "            self._open_bins.append(new_bin)\n",
    "\n",
    "            # If the factory was depleted mark for deletion\n",
    "            if binfac.is_empty():\n",
    "                factories_to_delete.add(key)\n",
    "       \n",
    "            break\n",
    "\n",
    "        # Delete marked factories\n",
    "        for f in factories_to_delete:\n",
    "            del self._empty_bins[f]\n",
    "\n",
    "        return new_bin \n",
    "\n",
    "    def add_bin(self, width, height, count=1, **kwargs):\n",
    "        # accept the same parameters as PackingAlgorithm objects\n",
    "        kwargs['rot'] = self._rotation\n",
    "        bin_factory = BinFactory(width, height, count, self._pack_algo, **kwargs)\n",
    "        self._empty_bins[next(self._bin_count)] = bin_factory\n",
    "\n",
    "    def rect_list(self):\n",
    "        rectangles = []\n",
    "        bin_count = 0\n",
    "\n",
    "        for abin in self:\n",
    "            for rect in abin:\n",
    "                rectangles.append((bin_count, rect.x, rect.y, rect.width, rect.height, rect.rid))\n",
    "            bin_count += 1\n",
    "\n",
    "        return rectangles\n",
    "\n",
    "    def bin_list(self):\n",
    "        \"\"\"\n",
    "        Return a list of the dimmensions of the bins in use, that is closed\n",
    "        or open containing at least one rectangle\n",
    "        \"\"\"\n",
    "        return [(b.width, b.height) for b in self]\n",
    "\n",
    "    def validate_packing(self):\n",
    "        for b in self:\n",
    "            b.validate_packing()\n",
    "\n",
    "    def reset(self): \n",
    "        # Bins fully packed and closed.\n",
    "        self._closed_bins = collections.deque()\n",
    "\n",
    "        # Bins ready to pack rectangles\n",
    "        self._open_bins = collections.deque()\n",
    "\n",
    "        # User provided bins not in current use\n",
    "        self._empty_bins = collections.OrderedDict() # O(1) deletion of arbitrary elem\n",
    "        self._bin_count = itertools.count()"
   ]
  },
  {
   "cell_type": "code",
   "execution_count": 154,
   "id": "7111e5ab",
   "metadata": {},
   "outputs": [],
   "source": [
    "class ShakerPackerSortedBBF(PackerOnline):\n",
    "    \"\"\"\n",
    "    Rectangles aren't packed untils pack() is called\n",
    "    \"\"\"\n",
    "    first_item = operator.itemgetter(0)\n",
    "\n",
    "    def __init__(self, pack_algo=MaxRectsBssf, sort_key=lambda r: r[0]*r[1],rotation=False):\n",
    "        \"\"\"\n",
    "        \"\"\"\n",
    "        super().__init__(pack_algo=pack_algo, rotation=rotation)\n",
    "        \n",
    "        self._sort_algo = lambda rectlist: sorted(rectlist, reverse=True, key=sort_key)\n",
    "\n",
    "        # User provided bins and Rectangles\n",
    "        self._avail_bins = collections.deque()\n",
    "        self._avail_rect = collections.deque()\n",
    "\n",
    "        # Aux vars used during packing\n",
    "        self._sorted_rect = []\n",
    "\n",
    "    def add_bin(self, width, height, count=1, **kwargs):\n",
    "        self._avail_bins.append((width, height, count, kwargs))\n",
    "\n",
    "    def add_rect(self, width, height, rid=None):\n",
    "        self._avail_rect.append((width, height, rid))\n",
    "\n",
    "    def _is_everything_ready(self):\n",
    "        return self._avail_rect and self._avail_bins\n",
    "    \n",
    "    def add_rect_into_bin(self, width, height, rid=None):\n",
    " \n",
    "        # Try packing into open bins\n",
    "        fit = ((b.fitness(width, height),  b) for b in self._open_bins)\n",
    "        #print(list(fit))\n",
    "        fit = (b for b in fit if b[0] is not None)\n",
    "        try:\n",
    "            _, best_bin = min(fit, key=self.first_item)\n",
    "            best_bin.add_rect(width, height, rid)\n",
    "            return True\n",
    "        except ValueError:\n",
    "            return False    \n",
    "\n",
    "\n",
    "    def pack(self):\n",
    "\n",
    "        self.reset()\n",
    "\n",
    "        if not self._is_everything_ready():\n",
    "            print('Alarm')\n",
    "            # maybe we should throw an error here?\n",
    "            return\n",
    "\n",
    "        # Add available bins to packer\n",
    "        for b in self._avail_bins:\n",
    "            width, height, count, extra_kwargs = b\n",
    "            super().add_bin(width, height, count, **extra_kwargs)\n",
    "\n",
    "        # If enabled sort rectangles\n",
    "        self._sorted_rect = self._sort_algo(self._avail_rect)\n",
    "\n",
    "        # Start packing\n",
    "        \n",
    "        # open new bins here!!!!!!!!!!!!!!!!!!!!!!!\n",
    "        while len(self._sorted_rect) > 0:\n",
    "            r = self._sorted_rect.pop(0)\n",
    "            append_success = self.add_rect_into_bin(*r)\n",
    "            if not append_success:\n",
    "                new_bin = self._new_open_bin(*r)\n",
    "                new_bin.add_rect(*r)"
   ]
  },
  {
   "cell_type": "code",
   "execution_count": 155,
   "id": "ed43197f",
   "metadata": {},
   "outputs": [],
   "source": [
    "import Base.bp2DState\n",
    "from Base.bp2DSimpleHeuristics import single_type_heuristic, first_fit, next_fit, most_enclosed_position, max_rest, \\\n",
    "    best_fit, first_fit_decreasing, next_fit_decreasing, get_all_heuristics, random_fit\n",
    "from Base.bp2DState import State\n",
    "from Base.bpReadWrite import ReadWrite\n",
    "from Base.bp2DBox import Box\n",
    "from Base.bpStateGenerators import random_state_generator, state_generator\n",
    "import time\n",
    "\n",
    "from Base.bp2DPlot import plot_packing_state\n",
    "from Base.bp2DSimpleHeuristicsFunctions import most_enclosed_position_in_bin\n",
    "from Base.bp2DState import Bin\n",
    "from Base.bp2DState import Action, State\n",
    "from Base.bpUtil import *\n",
    "from Base.bpStateGenerators import random_state_generator\n",
    "import matplotlib.pyplot as plt\n",
    "from rectpack import SORT_AREA, PackingMode, PackingBin, newPacker\n",
    "\n",
    "from rectpack import (MaxRectsBl, MaxRectsBssf, MaxRectsBaf, MaxRectsBlsf,\n",
    "SkylineBl, SkylineBlWm, SkylineMwf, SkylineMwfl, SkylineMwfWm, SkylineMwflWm,\n",
    "GuillotineBssfSas, GuillotineBssfSlas, GuillotineBssfLlas, GuillotineBssfMaxas,\n",
    "GuillotineBssfMinas, GuillotineBlsfSas, GuillotineBlsfLas, GuillotineBlsfSlas, GuillotineBlsfLlas, \n",
    "                     GuillotineBlsfMaxas, GuillotineBlsfMinas, GuillotineBafSas, GuillotineBafLas,\n",
    "                     GuillotineBafSlas, GuillotineBafLlas, GuillotineBafMaxas, GuillotineBafMinas)"
   ]
  },
  {
   "cell_type": "code",
   "execution_count": 156,
   "id": "8bdb0ac6",
   "metadata": {},
   "outputs": [],
   "source": [
    "count = 10\n",
    "test_state = random_state_generator((10, 10),count,1,3,1,3)\n",
    "path = f\"test_instances/small_{count}\"\n",
    "    \n",
    "ReadWrite.write_state(path=path, state=test_state)"
   ]
  },
  {
   "cell_type": "code",
   "execution_count": 157,
   "id": "1d289b6e",
   "metadata": {},
   "outputs": [],
   "source": [
    "packer = ShakerPackerSortedBBF(pack_algo=GuillotineBafMinas, rotation = False)\n",
    "for box in test_state.boxes_open:\n",
    "    packer.add_rect(box.w, box.h)\n",
    "# Add the bins where the rectangles will be placed\n"
   ]
  },
  {
   "cell_type": "code",
   "execution_count": 158,
   "id": "93e56864",
   "metadata": {},
   "outputs": [],
   "source": [
    "packer.add_bin(*test_state.bin_size, float(\"inf\"))\n",
    "packer.pack()"
   ]
  },
  {
   "cell_type": "code",
   "execution_count": 90,
   "id": "541a308a",
   "metadata": {},
   "outputs": [],
   "source": [
    "new_bin = packer._new_open_bin(3, 4)"
   ]
  },
  {
   "cell_type": "code",
   "execution_count": null,
   "id": "09f71575",
   "metadata": {},
   "outputs": [],
   "source": [
    "packer."
   ]
  },
  {
   "cell_type": "code",
   "execution_count": 91,
   "id": "eb34bdf6",
   "metadata": {},
   "outputs": [
    {
     "data": {
      "text/plain": [
       "R(0, 0, 3, 4)"
      ]
     },
     "execution_count": 91,
     "metadata": {},
     "output_type": "execute_result"
    }
   ],
   "source": [
    "new_bin.add_rect(3, 4)"
   ]
  },
  {
   "cell_type": "code",
   "execution_count": 159,
   "id": "48f0293b",
   "metadata": {},
   "outputs": [
    {
     "data": {
      "text/plain": [
       "[(10, 10)]"
      ]
     },
     "execution_count": 159,
     "metadata": {},
     "output_type": "execute_result"
    }
   ],
   "source": [
    "packer.bin_list()"
   ]
  },
  {
   "cell_type": "code",
   "execution_count": 93,
   "id": "4a804d52",
   "metadata": {},
   "outputs": [
    {
     "data": {
      "text/plain": [
       "14"
      ]
     },
     "execution_count": 93,
     "metadata": {},
     "output_type": "execute_result"
    }
   ],
   "source": [
    "new_bin.fitness(2, 2)"
   ]
  },
  {
   "cell_type": "code",
   "execution_count": 92,
   "id": "dbf96f4b",
   "metadata": {
    "scrolled": true
   },
   "outputs": [
    {
     "data": {
      "text/plain": [
       "[(0, 0, 3, 4, None)]"
      ]
     },
     "execution_count": 92,
     "metadata": {},
     "output_type": "execute_result"
    }
   ],
   "source": [
    "new_bin.rect_list()"
   ]
  },
  {
   "cell_type": "code",
   "execution_count": 105,
   "id": "a42c484f",
   "metadata": {},
   "outputs": [
    {
     "data": {
      "text/plain": [
       "[R(0, 4, 3, 6), R(3, 0, 7, 10)]"
      ]
     },
     "execution_count": 105,
     "metadata": {},
     "output_type": "execute_result"
    }
   ],
   "source": [
    "new_bin._sections"
   ]
  },
  {
   "cell_type": "code",
   "execution_count": 125,
   "id": "7fd8cbec",
   "metadata": {},
   "outputs": [],
   "source": [
    "bin = packer._open_bins[9]\n",
    "w = 2\n",
    "h = 2"
   ]
  },
  {
   "cell_type": "code",
   "execution_count": 128,
   "id": "b4ac9dca",
   "metadata": {},
   "outputs": [
    {
     "data": {
      "text/plain": [
       "[]"
      ]
     },
     "execution_count": 128,
     "metadata": {},
     "output_type": "execute_result"
    }
   ],
   "source": [
    "bin._sections"
   ]
  },
  {
   "cell_type": "code",
   "execution_count": 126,
   "id": "1c719cd6",
   "metadata": {},
   "outputs": [],
   "source": [
    "fit = ((bin._section_fitness(s, w, h), s, False) for s in bin._sections \n",
    "                if bin._section_fitness(s, w, h) is not None)"
   ]
  },
  {
   "cell_type": "code",
   "execution_count": null,
   "id": "c010ecf5",
   "metadata": {},
   "outputs": [],
   "source": []
  },
  {
   "cell_type": "code",
   "execution_count": 127,
   "id": "706d9257",
   "metadata": {},
   "outputs": [
    {
     "ename": "ValueError",
     "evalue": "min() arg is an empty sequence",
     "output_type": "error",
     "traceback": [
      "\u001b[1;31m---------------------------------------------------------------------------\u001b[0m",
      "\u001b[1;31mValueError\u001b[0m                                Traceback (most recent call last)",
      "\u001b[1;32m~\\AppData\\Local\\Temp/ipykernel_17932/2704563267.py\u001b[0m in \u001b[0;36m<module>\u001b[1;34m\u001b[0m\n\u001b[1;32m----> 1\u001b[1;33m \u001b[0m_\u001b[0m\u001b[1;33m,\u001b[0m \u001b[0msec\u001b[0m\u001b[1;33m,\u001b[0m \u001b[0mrot\u001b[0m \u001b[1;33m=\u001b[0m \u001b[0mmin\u001b[0m\u001b[1;33m(\u001b[0m\u001b[0mfit\u001b[0m\u001b[1;33m,\u001b[0m \u001b[0mkey\u001b[0m\u001b[1;33m=\u001b[0m\u001b[0moperator\u001b[0m\u001b[1;33m.\u001b[0m\u001b[0mitemgetter\u001b[0m\u001b[1;33m(\u001b[0m\u001b[1;36m0\u001b[0m\u001b[1;33m)\u001b[0m\u001b[1;33m)\u001b[0m\u001b[1;33m\u001b[0m\u001b[1;33m\u001b[0m\u001b[0m\n\u001b[0m",
      "\u001b[1;31mValueError\u001b[0m: min() arg is an empty sequence"
     ]
    }
   ],
   "source": [
    "_, sec, rot = min(fit, key=operator.itemgetter(0))"
   ]
  },
  {
   "cell_type": "code",
   "execution_count": 124,
   "id": "7bcdb62f",
   "metadata": {},
   "outputs": [
    {
     "data": {
      "text/plain": [
       "(R(0, 4, 3, 6), False)"
      ]
     },
     "execution_count": 124,
     "metadata": {},
     "output_type": "execute_result"
    }
   ],
   "source": [
    "sec, rot"
   ]
  },
  {
   "cell_type": "code",
   "execution_count": 113,
   "id": "3696cc30",
   "metadata": {},
   "outputs": [
    {
     "data": {
      "text/plain": [
       "[(14, R(0, 4, 3, 6), False), (66, R(3, 0, 7, 10), False)]"
      ]
     },
     "execution_count": 113,
     "metadata": {},
     "output_type": "execute_result"
    }
   ],
   "source": [
    "list(fitn)"
   ]
  },
  {
   "cell_type": "code",
   "execution_count": 106,
   "id": "3532afc1",
   "metadata": {},
   "outputs": [
    {
     "data": {
      "text/plain": [
       "(None, None)"
      ]
     },
     "execution_count": 106,
     "metadata": {},
     "output_type": "execute_result"
    }
   ],
   "source": [
    "packer._open_bins[9]._select_fittest_section(2,2)"
   ]
  },
  {
   "cell_type": "code",
   "execution_count": 58,
   "id": "38adf953",
   "metadata": {},
   "outputs": [
    {
     "data": {
      "text/plain": [
       "10"
      ]
     },
     "execution_count": 58,
     "metadata": {},
     "output_type": "execute_result"
    }
   ],
   "source": [
    "len(packer)"
   ]
  },
  {
   "cell_type": "code",
   "execution_count": null,
   "id": "1a473ffc",
   "metadata": {},
   "outputs": [],
   "source": [
    "def ffd_shaker(state: State, plot_result=False, plot_steps=False, plot_name=None, speed_mode = False):\n",
    "    '''ffd shaker'''\n",
    "    start = time.time()\n",
    "    step = 0\n",
    "    name = 'ffd_shaker_plot'\n",
    "    if plot_name is not None:\n",
    "        name = plot_name\n",
    "    sort_boxes_in_state(state)\n",
    "    fill_state = False\n",
    "    last_bin = 0\n",
    "    while state.has_open_boxes():\n",
    "        box = state.get_next_open_box()\n",
    "        \n",
    "        if fill_state:\n",
    "        # in this state we try to fit smallest containers in remaining space, without creating new bins\n",
    "            placement_success = False\n",
    "            for i in range(last_bin, len(state.bins)):\n",
    "                placement_success = state.place_box_in_bin(box, i)\n",
    "                if placement_success:\n",
    "                    break\n",
    "\n",
    "            if not placement_success:\n",
    "                state.boxes_open = state.boxes_open[::-1]\n",
    "                fill_state = False\n",
    "                if speed_mode:\n",
    "                    last_bin = len(state.bins) - 1\n",
    "                    \n",
    "        else:\n",
    "         # in this state we create containers, until find the container, which fits into created bins \n",
    "            placement_success = False\n",
    "            for i in range(last_bin, len(state.bins)):\n",
    "                placement_success = state.check_if_fits_somewhere_in_box(box, i)\n",
    "                if placement_success:\n",
    "                    state.boxes_open = state.boxes_open[::-1]\n",
    "                    fill_state = True\n",
    "                    break\n",
    "\n",
    "            if not placement_success:\n",
    "                state.open_new_bin()\n",
    "                state.place_box_in_bin_at_pnt(box, -1, Point(0, 0))\n",
    "            \n",
    "\n",
    "        if plot_steps:\n",
    "            plot_packing_state(state=state, step=step, fname=f\"./vis/{name}_step\")\n",
    "            step += 1\n",
    "    if plot_result:\n",
    "        plot_packing_state(state, fname=f\"./vis/{name}_result\")\n",
    "    state.solution_runtime = time.time() - start"
   ]
  }
 ],
 "metadata": {
  "kernelspec": {
   "display_name": "Python 3 (ipykernel)",
   "language": "python",
   "name": "python3"
  },
  "language_info": {
   "codemirror_mode": {
    "name": "ipython",
    "version": 3
   },
   "file_extension": ".py",
   "mimetype": "text/x-python",
   "name": "python",
   "nbconvert_exporter": "python",
   "pygments_lexer": "ipython3",
   "version": "3.8.5"
  }
 },
 "nbformat": 4,
 "nbformat_minor": 5
}
