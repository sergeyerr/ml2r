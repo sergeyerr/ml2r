{
 "cells": [
  {
   "cell_type": "code",
   "execution_count": 72,
   "id": "829d29f9",
   "metadata": {},
   "outputs": [],
   "source": [
    "from Base.bp2DBox import Box\n",
    "from Base.bp2DPnt import Point\n",
    "\n",
    "\n",
    "class Bin:\n",
    "\n",
    "    def __init__(self, w, h, use_bottom_left = False):\n",
    "        self.w = w\n",
    "        self.h = h\n",
    "        self.area = w * h  # box, i.e. rectangle, to be packed\n",
    "        self.pnts_open = None\n",
    "        \n",
    "        if use_bottom_left:\n",
    "            self.bottom_left_points = [Point(0, 0)]\n",
    "        else:\n",
    "            self.bottom_left_points = None\n",
    "        \n",
    "        \n",
    "        self.init_pnts_open()  # list of rectangles still to be placed\n",
    "        self.boxes_stored = []\n",
    "        self.bounding_box = Box(w, h, Point(0, 0))\n",
    "\n",
    "    def init_pnts_open(self):\n",
    "        # self.pnts_open = {Point(i, j) for i in range(self.w) for j in range(self.h)}\n",
    "        self.pnts_open = [Point(i, j) for i in range(self.w) for j in range(self.h)]\n",
    "    \n",
    "# STUFF WITH BOTTOM-LEFT POINTS STARTS HERE\n",
    "    \n",
    "    \n",
    "    def get_bottom_left_points_for_box(self, box: Box):\n",
    "        '''\n",
    "        return:\n",
    "        1: get suitable points for a box, sorted by cost function\n",
    "        2: area of new bbox / area of old bbox for each position, as cost-function. To be changed \n",
    "        somehow need to consider free slots in bbox\n",
    "        '''\n",
    "        for \n",
    "        \n",
    "    def update_bottom_left_points(self, box: Box, pnt: Point):\n",
    "        '''\n",
    "        !!!! update by Sergei\n",
    "        Try to place box on bottom-left point. If point is not correct, then this box loses all functions,\n",
    "        connected to bottom-left points\n",
    "        \n",
    "        \n",
    "        WRONG!!! need to more smart approach\n",
    "        '''\n",
    "        if not self.bottom_left_points:\n",
    "            return\n",
    "        if pnt in self.bottom_left_points:\n",
    "            ind = self.bottom_left_points.index(pnt)\n",
    "            ### box need already moved to new position\n",
    "            ### tricky thing, tr - top right corner, but not in rectangle!!\n",
    "            new_x = box.tr.get_x()\n",
    "            new_y = box.tr.get_y()\n",
    "            new_points = []\n",
    "            if new_y < self.h:\n",
    "                if ind == 0:\n",
    "                    new_points.append(Point(pnt.get_x(), new_y))\n",
    "                elif new_y < self.bottom_left_points[ind - 1].get_y():\n",
    "                    new_points.append(Point(pnt.get_x(), new_y))\n",
    "                    \n",
    "            if new_x < self.w:\n",
    "                if ind == len(self.bottom_left_points) - 1:\n",
    "                    new_points.append(Point(new_x, pnt.get_y()))\n",
    "                elif new_x < self.bottom_left_points[ind + 1].get_x():\n",
    "                    new_points.append(Point(new_x, pnt.get_y()))\n",
    "                    \n",
    "            self.bottom_left_points = self.bottom_left_points[:ind] + new_points + self.bottom_left_points[ind + 1:]\n",
    "            \n",
    "        else:\n",
    "            # wrong point\n",
    "            self.bottom_left_points = None\n",
    "\n",
    "    def can_place_box_at_pnt(self, box: Box, pnt: Point) -> bool:\n",
    "        '''Check if Box box can be placed at Point pnt.'''\n",
    "        if pnt not in self.pnts_open:\n",
    "            return False\n",
    "        if box.get_a() > len(self.pnts_open):\n",
    "            return False\n",
    "\n",
    "        old_position = box.bl.copy()\n",
    "        box.move(pnt)\n",
    "\n",
    "        if not self.bounding_box.contains_rectangle(box):\n",
    "            box.move(old_position)\n",
    "            return False\n",
    "        for bs in self.boxes_stored:\n",
    "            if bs.overlap(box) > 0:\n",
    "                box.move(old_position)\n",
    "                return False\n",
    "        box.move(old_position)\n",
    "        return True\n",
    "\n",
    "    def place_box_at_pnt(self, box: Box, pnt: Point) -> bool:\n",
    "        '''Place Box box at Point pnt. \n",
    "        If the operation is feasible, the function modifies the set of open points and the list of stored boxes and returns True. Otherwise it does nothing and returns False.\n",
    "        '''\n",
    "        if self.can_place_box_at_pnt(box, pnt):\n",
    "            box.move(pnt)\n",
    "            self.boxes_stored.append(box)\n",
    "            self.remove_open_pnts(box)\n",
    "            return True\n",
    "        else:\n",
    "            return False\n",
    "\n",
    "    def get_pnts_open(self):\n",
    "        return self.pnts_open\n",
    "\n",
    "    def remove_box(self, box):\n",
    "        assert box in self.boxes_stored\n",
    "        self.add_open_pnts(box)\n",
    "        self.boxes_stored.remove(box)\n",
    "\n",
    "    def add_open_pnts(self, box: Box):  # TODO shuffles the order of open points if a box is added and then removed\n",
    "        self.pnts_open.extend(box.get_interior_points())\n",
    "\n",
    "    def remove_open_pnts(self, box: Box):\n",
    "        for bp in box.get_interior_points():\n",
    "            self.pnts_open.remove(bp)\n",
    "\n",
    "    def capacity_available(self):\n",
    "        return len(self.pnts_open)\n",
    "\n",
    "    def get_corner(self, c: str):\n",
    "        return self.bounding_box.get_corner(c)\n",
    "\n",
    "\n",
    "if __name__ == '__main__':\n",
    "    pass\n"
   ]
  },
  {
   "cell_type": "code",
   "execution_count": 84,
   "id": "00ea37ca",
   "metadata": {},
   "outputs": [],
   "source": [
    "test = Bin(10, 10, True)"
   ]
  },
  {
   "cell_type": "code",
   "execution_count": 85,
   "id": "ac7fbe0c",
   "metadata": {},
   "outputs": [],
   "source": [
    "test.update_bottom_left_points(Box(9, 9), Point(0, 0))"
   ]
  },
  {
   "cell_type": "code",
   "execution_count": 86,
   "id": "fc12324b",
   "metadata": {},
   "outputs": [
    {
     "data": {
      "text/plain": [
       "[(0, 9), (9, 0)]"
      ]
     },
     "execution_count": 86,
     "metadata": {},
     "output_type": "execute_result"
    }
   ],
   "source": [
    "test.bottom_left_points"
   ]
  },
  {
   "cell_type": "code",
   "execution_count": 76,
   "id": "7fdbd305",
   "metadata": {},
   "outputs": [],
   "source": [
    "box = Box(1, 10)\n",
    "point = Point(3, 0)\n",
    "box.move(point)\n",
    "test.update_bottom_left_points(box, point)"
   ]
  },
  {
   "cell_type": "code",
   "execution_count": 77,
   "id": "9eaf76c2",
   "metadata": {},
   "outputs": [
    {
     "data": {
      "text/plain": [
       "[(0, 1), (4, 0)]"
      ]
     },
     "execution_count": 77,
     "metadata": {},
     "output_type": "execute_result"
    }
   ],
   "source": [
    "test.bottom_left_points"
   ]
  },
  {
   "cell_type": "code",
   "execution_count": null,
   "id": "16afb348",
   "metadata": {},
   "outputs": [],
   "source": []
  }
 ],
 "metadata": {
  "kernelspec": {
   "display_name": "Python 3 (ipykernel)",
   "language": "python",
   "name": "python3"
  },
  "language_info": {
   "codemirror_mode": {
    "name": "ipython",
    "version": 3
   },
   "file_extension": ".py",
   "mimetype": "text/x-python",
   "name": "python",
   "nbconvert_exporter": "python",
   "pygments_lexer": "ipython3",
   "version": "3.8.5"
  }
 },
 "nbformat": 4,
 "nbformat_minor": 5
}
