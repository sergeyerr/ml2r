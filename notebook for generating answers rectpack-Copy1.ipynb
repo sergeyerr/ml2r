{
 "cells": [
  {
   "cell_type": "code",
   "execution_count": 3,
   "id": "232493e5",
   "metadata": {},
   "outputs": [],
   "source": [
    "import Base.bp2DState\n",
    "from Base.bp2DSimpleHeuristics import single_type_heuristic, first_fit, next_fit, most_enclosed_position, max_rest, \\\n",
    "    best_fit, first_fit_decreasing, next_fit_decreasing, get_all_heuristics, random_fit\n",
    "from Base.bp2DState import State\n",
    "from Base.bpReadWrite import ReadWrite\n",
    "from Base.bp2DBox import Box\n",
    "from Base.bpStateGenerators import random_state_generator, state_generator\n",
    "import time\n",
    "\n",
    "from Base.bp2DPlot import plot_packing_state\n",
    "from Base.bp2DSimpleHeuristicsFunctions import most_enclosed_position_in_bin\n",
    "from Base.bp2DState import Bin\n",
    "from Base.bp2DState import Action, State\n",
    "from Base.bpUtil import *\n",
    "from Base.bpStateGenerators import random_state_generator\n",
    "import matplotlib.pyplot as plt"
   ]
  },
  {
   "cell_type": "code",
   "execution_count": 4,
   "id": "c470488f",
   "metadata": {},
   "outputs": [],
   "source": [
    "from Base.bp2DPlot import plot_packing_state"
   ]
  },
  {
   "cell_type": "code",
   "execution_count": 5,
   "id": "12a68609",
   "metadata": {},
   "outputs": [],
   "source": [
    "from rectpack import SORT_AREA, PackingMode, PackingBin, newPacker\n",
    "\n",
    "from rectpack import (MaxRectsBl, MaxRectsBssf, MaxRectsBaf, MaxRectsBlsf,\n",
    "SkylineBl, SkylineBlWm, SkylineMwf, SkylineMwfl, SkylineMwfWm, SkylineMwflWm,\n",
    "GuillotineBssfSas, GuillotineBssfSlas, GuillotineBssfLlas, GuillotineBssfMaxas,\n",
    "GuillotineBssfMinas, GuillotineBlsfSas, GuillotineBlsfLas, GuillotineBlsfSlas, GuillotineBlsfLlas, \n",
    "                     GuillotineBlsfMaxas, GuillotineBlsfMinas, GuillotineBafSas, GuillotineBafLas,\n",
    "                     GuillotineBafSlas, GuillotineBafLlas, GuillotineBafMaxas, GuillotineBafMinas)\n",
    "from ShakerBFDProMax import ShakerBFDProMax\n",
    "from converterFromRectPack import convert\n",
    "from Base.bpReadWrite import ReadWrite\n",
    "from os import path, listdir, mkdir"
   ]
  },
  {
   "cell_type": "code",
   "execution_count": 6,
   "id": "c2c426f7",
   "metadata": {},
   "outputs": [],
   "source": [
    "import pandas as pd"
   ]
  },
  {
   "cell_type": "code",
   "execution_count": 7,
   "id": "130efcf1",
   "metadata": {},
   "outputs": [],
   "source": [
    "packings =  [GuillotineBafSlas, GuillotineBlsfSlas, GuillotineBafMinas, GuillotineBafLas, MaxRectsBssf, MaxRectsBlsf, MaxRectsBaf]"
   ]
  },
  {
   "cell_type": "code",
   "execution_count": 8,
   "id": "92cf6ac4",
   "metadata": {},
   "outputs": [],
   "source": [
    "bin_algos = [PackingBin.BFF, PackingBin.BBF]"
   ]
  },
  {
   "cell_type": "code",
   "execution_count": 9,
   "id": "55da5b80",
   "metadata": {},
   "outputs": [],
   "source": [
    "from os import path, listdir, mkdir"
   ]
  },
  {
   "cell_type": "code",
   "execution_count": 10,
   "id": "4c7401f0",
   "metadata": {},
   "outputs": [],
   "source": [
    "input_folder = '.\\one packing'\n",
    "output_folder = './shek'"
   ]
  },
  {
   "cell_type": "code",
   "execution_count": 11,
   "id": "06421273",
   "metadata": {},
   "outputs": [],
   "source": [
    "cases = []\n",
    "for f in listdir(input_folder):\n",
    "    cases.append(f)"
   ]
  },
  {
   "cell_type": "code",
   "execution_count": 12,
   "id": "46cb04d2",
   "metadata": {},
   "outputs": [],
   "source": [
    "if not path.exists(output_folder):\n",
    "    mkdir(output_folder)"
   ]
  },
  {
   "cell_type": "code",
   "execution_count": 69,
   "id": "0f80c935",
   "metadata": {},
   "outputs": [],
   "source": [
    "def solve(test_state, algo, bin_algo):\n",
    "    packer = newPacker(mode=PackingMode.Offline, pack_algo=algo,bin_algo = bin_algo,  sort_algo= SORT_AREA, rotation = False)\n",
    "    for box in test_state.boxes_open:\n",
    "        packer.add_rect(box.w, box.h)\n",
    "    # Add the bins where the rectangles will be placed\n",
    "    packer.add_bin(*test_state.bin_size, float(\"inf\"))\n",
    "    packer.pack()\n",
    "    solution = convert(packer, test_case.bin_size)\n",
    "    return solution"
   ]
  },
  {
   "cell_type": "code",
   "execution_count": null,
   "id": "2e03c359",
   "metadata": {},
   "outputs": [],
   "source": [
    "df = pd.DataFrame(columns=['algo', 'packing', 'test_case', 'boxes_count'])"
   ]
  },
  {
   "cell_type": "code",
   "execution_count": 70,
   "id": "e124b8ab",
   "metadata": {
    "scrolled": false
   },
   "outputs": [
    {
     "name": "stderr",
     "output_type": "stream",
     "text": [
      "100%|████████████████████████████████████████████████████████████████████████████████████| 7/7 [00:00<00:00, 36.46it/s]\n"
     ]
    },
    {
     "name": "stdout",
     "output_type": "stream",
     "text": [
      "bp_50_39.txt: 11\n"
     ]
    },
    {
     "name": "stderr",
     "output_type": "stream",
     "text": [
      "100%|████████████████████████████████████████████████████████████████████████████████████| 7/7 [00:00<00:00, 38.04it/s]\n"
     ]
    },
    {
     "name": "stdout",
     "output_type": "stream",
     "text": [
      "bp_50_38.txt: 11\n"
     ]
    },
    {
     "name": "stderr",
     "output_type": "stream",
     "text": [
      "100%|████████████████████████████████████████████████████████████████████████████████████| 7/7 [00:00<00:00, 40.23it/s]\n"
     ]
    },
    {
     "name": "stdout",
     "output_type": "stream",
     "text": [
      "bp_50_37.txt: 11\n"
     ]
    },
    {
     "name": "stderr",
     "output_type": "stream",
     "text": [
      "100%|████████████████████████████████████████████████████████████████████████████████████| 7/7 [00:00<00:00, 38.04it/s]\n"
     ]
    },
    {
     "name": "stdout",
     "output_type": "stream",
     "text": [
      "bp_50_36.txt: 11\n"
     ]
    },
    {
     "name": "stderr",
     "output_type": "stream",
     "text": [
      "100%|████████████████████████████████████████████████████████████████████████████████████| 7/7 [00:00<00:00, 38.67it/s]\n"
     ]
    },
    {
     "name": "stdout",
     "output_type": "stream",
     "text": [
      "bp_50_35.txt: 11\n"
     ]
    },
    {
     "name": "stderr",
     "output_type": "stream",
     "text": [
      "100%|████████████████████████████████████████████████████████████████████████████████████| 7/7 [00:00<00:00, 36.84it/s]\n"
     ]
    },
    {
     "name": "stdout",
     "output_type": "stream",
     "text": [
      "bp_50_34.txt: 11\n"
     ]
    },
    {
     "name": "stderr",
     "output_type": "stream",
     "text": [
      "100%|████████████████████████████████████████████████████████████████████████████████████| 7/7 [00:00<00:00, 39.33it/s]\n"
     ]
    },
    {
     "name": "stdout",
     "output_type": "stream",
     "text": [
      "bp_50_33.txt: 11\n"
     ]
    },
    {
     "name": "stderr",
     "output_type": "stream",
     "text": [
      "100%|████████████████████████████████████████████████████████████████████████████████████| 7/7 [00:00<00:00, 39.77it/s]\n"
     ]
    },
    {
     "name": "stdout",
     "output_type": "stream",
     "text": [
      "bp_50_32.txt: 11\n"
     ]
    },
    {
     "name": "stderr",
     "output_type": "stream",
     "text": [
      "100%|████████████████████████████████████████████████████████████████████████████████████| 7/7 [00:00<00:00, 40.70it/s]\n"
     ]
    },
    {
     "name": "stdout",
     "output_type": "stream",
     "text": [
      "bp_50_31.txt: 11\n"
     ]
    },
    {
     "name": "stderr",
     "output_type": "stream",
     "text": [
      "100%|████████████████████████████████████████████████████████████████████████████████████| 7/7 [00:00<00:00, 39.33it/s]\n"
     ]
    },
    {
     "name": "stdout",
     "output_type": "stream",
     "text": [
      "bp_50_30.txt: 11\n"
     ]
    },
    {
     "name": "stderr",
     "output_type": "stream",
     "text": [
      "100%|████████████████████████████████████████████████████████████████████████████████████| 7/7 [00:00<00:00, 19.77it/s]\n"
     ]
    },
    {
     "name": "stdout",
     "output_type": "stream",
     "text": [
      "bp_50_29.txt: 23\n"
     ]
    },
    {
     "name": "stderr",
     "output_type": "stream",
     "text": [
      "100%|████████████████████████████████████████████████████████████████████████████████████| 7/7 [00:00<00:00, 28.93it/s]\n"
     ]
    },
    {
     "name": "stdout",
     "output_type": "stream",
     "text": [
      "bp_50_28.txt: 18\n"
     ]
    },
    {
     "name": "stderr",
     "output_type": "stream",
     "text": [
      "100%|████████████████████████████████████████████████████████████████████████████████████| 7/7 [00:00<00:00, 23.73it/s]\n"
     ]
    },
    {
     "name": "stdout",
     "output_type": "stream",
     "text": [
      "bp_50_27.txt: 22\n"
     ]
    },
    {
     "name": "stderr",
     "output_type": "stream",
     "text": [
      "100%|████████████████████████████████████████████████████████████████████████████████████| 7/7 [00:00<00:00, 29.66it/s]\n"
     ]
    },
    {
     "name": "stdout",
     "output_type": "stream",
     "text": [
      "bp_50_26.txt: 19\n"
     ]
    },
    {
     "name": "stderr",
     "output_type": "stream",
     "text": [
      "100%|████████████████████████████████████████████████████████████████████████████████████| 7/7 [00:00<00:00, 23.57it/s]\n"
     ]
    },
    {
     "name": "stdout",
     "output_type": "stream",
     "text": [
      "bp_50_25.txt: 22\n"
     ]
    },
    {
     "name": "stderr",
     "output_type": "stream",
     "text": [
      "100%|████████████████████████████████████████████████████████████████████████████████████| 7/7 [00:00<00:00, 27.13it/s]\n"
     ]
    },
    {
     "name": "stdout",
     "output_type": "stream",
     "text": [
      "bp_50_24.txt: 23\n"
     ]
    },
    {
     "name": "stderr",
     "output_type": "stream",
     "text": [
      "100%|████████████████████████████████████████████████████████████████████████████████████| 7/7 [00:00<00:00, 25.74it/s]\n"
     ]
    },
    {
     "name": "stdout",
     "output_type": "stream",
     "text": [
      "bp_50_23.txt: 19\n"
     ]
    },
    {
     "name": "stderr",
     "output_type": "stream",
     "text": [
      "100%|████████████████████████████████████████████████████████████████████████████████████| 7/7 [00:00<00:00, 28.93it/s]\n"
     ]
    },
    {
     "name": "stdout",
     "output_type": "stream",
     "text": [
      "bp_50_22.txt: 20\n"
     ]
    },
    {
     "name": "stderr",
     "output_type": "stream",
     "text": [
      "100%|████████████████████████████████████████████████████████████████████████████████████| 7/7 [00:00<00:00, 24.39it/s]\n"
     ]
    },
    {
     "name": "stdout",
     "output_type": "stream",
     "text": [
      "bp_50_21.txt: 20\n"
     ]
    },
    {
     "name": "stderr",
     "output_type": "stream",
     "text": [
      "100%|████████████████████████████████████████████████████████████████████████████████████| 7/7 [00:00<00:00, 25.83it/s]\n"
     ]
    },
    {
     "name": "stdout",
     "output_type": "stream",
     "text": [
      "bp_50_20.txt: 23\n"
     ]
    },
    {
     "name": "stderr",
     "output_type": "stream",
     "text": [
      "100%|████████████████████████████████████████████████████████████████████████████████████| 7/7 [00:00<00:00, 24.06it/s]\n"
     ]
    },
    {
     "name": "stdout",
     "output_type": "stream",
     "text": [
      "bp_50_19.txt: 26\n"
     ]
    },
    {
     "name": "stderr",
     "output_type": "stream",
     "text": [
      "100%|████████████████████████████████████████████████████████████████████████████████████| 7/7 [00:00<00:00, 23.73it/s]\n"
     ]
    },
    {
     "name": "stdout",
     "output_type": "stream",
     "text": [
      "bp_50_18.txt: 26\n"
     ]
    },
    {
     "name": "stderr",
     "output_type": "stream",
     "text": [
      "100%|████████████████████████████████████████████████████████████████████████████████████| 7/7 [00:00<00:00, 28.11it/s]\n"
     ]
    },
    {
     "name": "stdout",
     "output_type": "stream",
     "text": [
      "bp_50_17.txt: 26\n"
     ]
    },
    {
     "name": "stderr",
     "output_type": "stream",
     "text": [
      "100%|████████████████████████████████████████████████████████████████████████████████████| 7/7 [00:00<00:00, 24.31it/s]\n"
     ]
    },
    {
     "name": "stdout",
     "output_type": "stream",
     "text": [
      "bp_50_16.txt: 26\n"
     ]
    },
    {
     "name": "stderr",
     "output_type": "stream",
     "text": [
      "100%|████████████████████████████████████████████████████████████████████████████████████| 7/7 [00:00<00:00, 23.65it/s]\n"
     ]
    },
    {
     "name": "stdout",
     "output_type": "stream",
     "text": [
      "bp_50_15.txt: 26\n"
     ]
    },
    {
     "name": "stderr",
     "output_type": "stream",
     "text": [
      "100%|████████████████████████████████████████████████████████████████████████████████████| 7/7 [00:00<00:00, 24.31it/s]\n"
     ]
    },
    {
     "name": "stdout",
     "output_type": "stream",
     "text": [
      "bp_50_14.txt: 26\n"
     ]
    },
    {
     "name": "stderr",
     "output_type": "stream",
     "text": [
      "100%|████████████████████████████████████████████████████████████████████████████████████| 7/7 [00:00<00:00, 28.11it/s]\n"
     ]
    },
    {
     "name": "stdout",
     "output_type": "stream",
     "text": [
      "bp_50_13.txt: 26\n"
     ]
    },
    {
     "name": "stderr",
     "output_type": "stream",
     "text": [
      "100%|████████████████████████████████████████████████████████████████████████████████████| 7/7 [00:00<00:00, 23.97it/s]\n"
     ]
    },
    {
     "name": "stdout",
     "output_type": "stream",
     "text": [
      "bp_50_12.txt: 26\n"
     ]
    },
    {
     "name": "stderr",
     "output_type": "stream",
     "text": [
      "100%|████████████████████████████████████████████████████████████████████████████████████| 7/7 [00:00<00:00, 24.39it/s]\n"
     ]
    },
    {
     "name": "stdout",
     "output_type": "stream",
     "text": [
      "bp_50_11.txt: 26\n"
     ]
    },
    {
     "name": "stderr",
     "output_type": "stream",
     "text": [
      "100%|████████████████████████████████████████████████████████████████████████████████████| 7/7 [00:00<00:00, 27.67it/s]\n"
     ]
    },
    {
     "name": "stdout",
     "output_type": "stream",
     "text": [
      "bp_50_10.txt: 26\n"
     ]
    },
    {
     "name": "stderr",
     "output_type": "stream",
     "text": [
      "100%|████████████████████████████████████████████████████████████████████████████████████| 7/7 [00:00<00:00, 48.28it/s]\n"
     ]
    },
    {
     "name": "stdout",
     "output_type": "stream",
     "text": [
      "bp_50_09.txt: 8\n"
     ]
    },
    {
     "name": "stderr",
     "output_type": "stream",
     "text": [
      "100%|████████████████████████████████████████████████████████████████████████████████████| 7/7 [00:00<00:00, 42.42it/s]\n"
     ]
    },
    {
     "name": "stdout",
     "output_type": "stream",
     "text": [
      "bp_50_08.txt: 7\n"
     ]
    },
    {
     "name": "stderr",
     "output_type": "stream",
     "text": [
      "100%|████████████████████████████████████████████████████████████████████████████████████| 7/7 [00:00<00:00, 57.85it/s]\n"
     ]
    },
    {
     "name": "stdout",
     "output_type": "stream",
     "text": [
      "bp_50_07.txt: 6\n"
     ]
    },
    {
     "name": "stderr",
     "output_type": "stream",
     "text": [
      "100%|████████████████████████████████████████████████████████████████████████████████████| 7/7 [00:00<00:00, 54.26it/s]\n"
     ]
    },
    {
     "name": "stdout",
     "output_type": "stream",
     "text": [
      "bp_50_06.txt: 6\n"
     ]
    },
    {
     "name": "stderr",
     "output_type": "stream",
     "text": [
      "100%|████████████████████████████████████████████████████████████████████████████████████| 7/7 [00:00<00:00, 63.63it/s]\n"
     ]
    },
    {
     "name": "stdout",
     "output_type": "stream",
     "text": [
      "bp_50_05.txt: 4\n"
     ]
    },
    {
     "name": "stderr",
     "output_type": "stream",
     "text": [
      "100%|████████████████████████████████████████████████████████████████████████████████████| 7/7 [00:00<00:00, 56.45it/s]\n"
     ]
    },
    {
     "name": "stdout",
     "output_type": "stream",
     "text": [
      "bp_50_04.txt: 4\n"
     ]
    },
    {
     "name": "stderr",
     "output_type": "stream",
     "text": [
      "100%|████████████████████████████████████████████████████████████████████████████████████| 7/7 [00:00<00:00, 65.42it/s]\n"
     ]
    },
    {
     "name": "stdout",
     "output_type": "stream",
     "text": [
      "bp_50_03.txt: 3\n"
     ]
    },
    {
     "name": "stderr",
     "output_type": "stream",
     "text": [
      "100%|████████████████████████████████████████████████████████████████████████████████████| 7/7 [00:00<00:00, 66.67it/s]\n"
     ]
    },
    {
     "name": "stdout",
     "output_type": "stream",
     "text": [
      "bp_50_02.txt: 3\n"
     ]
    },
    {
     "name": "stderr",
     "output_type": "stream",
     "text": [
      "100%|████████████████████████████████████████████████████████████████████████████████████| 7/7 [00:00<00:00, 70.71it/s]\n"
     ]
    },
    {
     "name": "stdout",
     "output_type": "stream",
     "text": [
      "bp_50_01.txt: 2\n"
     ]
    },
    {
     "name": "stderr",
     "output_type": "stream",
     "text": [
      "100%|████████████████████████████████████████████████████████████████████████████████████| 7/7 [00:00<00:00, 67.96it/s]\n"
     ]
    },
    {
     "name": "stdout",
     "output_type": "stream",
     "text": [
      "bp_50_00.txt: 2\n"
     ]
    },
    {
     "name": "stderr",
     "output_type": "stream",
     "text": [
      "100%|████████████████████████████████████████████████████████████████████████████████████| 7/7 [03:01<00:00, 25.95s/it]\n"
     ]
    },
    {
     "name": "stdout",
     "output_type": "stream",
     "text": [
      "bp_5000_3.txt: 1511\n"
     ]
    },
    {
     "name": "stderr",
     "output_type": "stream",
     "text": [
      "100%|████████████████████████████████████████████████████████████████████████████████████| 7/7 [01:28<00:00, 12.60s/it]\n"
     ]
    },
    {
     "name": "stdout",
     "output_type": "stream",
     "text": [
      "bp_5000_2.txt: 614\n"
     ]
    },
    {
     "name": "stderr",
     "output_type": "stream",
     "text": [
      "100%|████████████████████████████████████████████████████████████████████████████████████| 7/7 [00:48<00:00,  6.93s/it]\n"
     ]
    },
    {
     "name": "stdout",
     "output_type": "stream",
     "text": [
      "bp_5000_1.txt: 379\n"
     ]
    },
    {
     "name": "stderr",
     "output_type": "stream",
     "text": [
      "100%|████████████████████████████████████████████████████████████████████████████████████| 7/7 [03:15<00:00, 27.90s/it]\n"
     ]
    },
    {
     "name": "stdout",
     "output_type": "stream",
     "text": [
      "bp_5000_0.txt: 1452\n"
     ]
    },
    {
     "name": "stderr",
     "output_type": "stream",
     "text": [
      "100%|████████████████████████████████████████████████████████████████████████████████████| 7/7 [00:34<00:00,  4.92s/it]\n"
     ]
    },
    {
     "name": "stdout",
     "output_type": "stream",
     "text": [
      "bp_2000_2.txt: 621\n"
     ]
    },
    {
     "name": "stderr",
     "output_type": "stream",
     "text": [
      "100%|████████████████████████████████████████████████████████████████████████████████████| 7/7 [00:16<00:00,  2.35s/it]\n"
     ]
    },
    {
     "name": "stdout",
     "output_type": "stream",
     "text": [
      "bp_2000_1.txt: 246\n"
     ]
    },
    {
     "name": "stderr",
     "output_type": "stream",
     "text": [
      "100%|████████████████████████████████████████████████████████████████████████████████████| 7/7 [00:10<00:00,  1.44s/it]\n"
     ]
    },
    {
     "name": "stdout",
     "output_type": "stream",
     "text": [
      "bp_2000_0.txt: 152\n"
     ]
    },
    {
     "name": "stderr",
     "output_type": "stream",
     "text": [
      "100%|████████████████████████████████████████████████████████████████████████████████████| 7/7 [00:07<00:00,  1.00s/it]\n"
     ]
    },
    {
     "name": "stdout",
     "output_type": "stream",
     "text": [
      "bp_1000_3.txt: 199\n"
     ]
    },
    {
     "name": "stderr",
     "output_type": "stream",
     "text": [
      "100%|████████████████████████████████████████████████████████████████████████████████████| 7/7 [00:14<00:00,  2.09s/it]\n"
     ]
    },
    {
     "name": "stdout",
     "output_type": "stream",
     "text": [
      "bp_1000_2.txt: 405\n"
     ]
    },
    {
     "name": "stderr",
     "output_type": "stream",
     "text": [
      "100%|████████████████████████████████████████████████████████████████████████████████████| 7/7 [00:15<00:00,  2.24s/it]\n"
     ]
    },
    {
     "name": "stdout",
     "output_type": "stream",
     "text": [
      "bp_1000_1.txt: 507\n"
     ]
    },
    {
     "name": "stderr",
     "output_type": "stream",
     "text": [
      "100%|████████████████████████████████████████████████████████████████████████████████████| 7/7 [00:03<00:00,  1.98it/s]\n"
     ]
    },
    {
     "name": "stdout",
     "output_type": "stream",
     "text": [
      "bp_1000_0.txt: 74\n"
     ]
    },
    {
     "name": "stderr",
     "output_type": "stream",
     "text": [
      "100%|████████████████████████████████████████████████████████████████████████████████████| 7/7 [05:29<00:00, 47.07s/it]\n"
     ]
    },
    {
     "name": "stdout",
     "output_type": "stream",
     "text": [
      "bp_10000_4.txt: 1227\n"
     ]
    },
    {
     "name": "stderr",
     "output_type": "stream",
     "text": [
      "100%|████████████████████████████████████████████████████████████████████████████████████| 7/7 [02:54<00:00, 24.99s/it]\n"
     ]
    },
    {
     "name": "stdout",
     "output_type": "stream",
     "text": [
      "bp_10000_3.txt: 757\n"
     ]
    },
    {
     "name": "stderr",
     "output_type": "stream",
     "text": [
      "100%|████████████████████████████████████████████████████████████████████████████████████| 7/7 [10:46<00:00, 92.39s/it]\n"
     ]
    },
    {
     "name": "stdout",
     "output_type": "stream",
     "text": [
      "bp_10000_2.txt: 2572\n"
     ]
    },
    {
     "name": "stderr",
     "output_type": "stream",
     "text": [
      "100%|████████████████████████████████████████████████████████████████████████████████████| 7/7 [11:23<00:00, 97.71s/it]\n"
     ]
    },
    {
     "name": "stdout",
     "output_type": "stream",
     "text": [
      "bp_10000_1.txt: 3025\n"
     ]
    },
    {
     "name": "stderr",
     "output_type": "stream",
     "text": [
      "100%|████████████████████████████████████████████████████████████████████████████████████| 7/7 [02:46<00:00, 23.72s/it]\n"
     ]
    },
    {
     "name": "stdout",
     "output_type": "stream",
     "text": [
      "bp_10000_0.txt: 735\n"
     ]
    }
   ],
   "source": [
    "from tqdm import tqdm\n",
    "best_counter = Counter()\n",
    "\n",
    "for case in cases[::-1]:\n",
    "    test_case = ReadWrite.read_state(path=path.join(input_folder, case))\n",
    "    best = len(test_case.boxes_open)\n",
    "    best_res = None\n",
    "    best_algo = None\n",
    "    for packing in tqdm(packings):\n",
    "        for bin_algo in bin_algos:\n",
    "            solution = solve(test_case, packing, bin_algo)\n",
    "            df = pd.concat([pd.DataFrame([[bin_algo, packing, case, len(solution.bins)]], columns=df.columns), df], ignore_index=True)\n",
    "            if len(solution.bins) < best:\n",
    "                best = len(solution.bins)\n",
    "                best_res = solution\n",
    "                best_algo = str(packing)\n",
    "    tqdm._instances.clear()\n",
    "    test_case = ReadWrite.read_state(path=path.join(input_folder, case))\n",
    "    if not best_res.is_valid(test_case):\n",
    "        print(f'alarm, wrong solution!!! on {case}')\n",
    "        break\n",
    "    print(f\"{case}: {len(best_res.bins)}\")\n",
    "    best_counter[best_algo] += 1\n",
    "    tqdm._instances.clear()\n",
    "    ReadWrite.write_state(path=path.join(output_folder, case), state=best_res)\n",
    "    "
   ]
  },
  {
   "cell_type": "code",
   "execution_count": 67,
   "id": "2fae6bca",
   "metadata": {},
   "outputs": [
    {
     "data": {
      "text/html": [
       "<div>\n",
       "<style scoped>\n",
       "    .dataframe tbody tr th:only-of-type {\n",
       "        vertical-align: middle;\n",
       "    }\n",
       "\n",
       "    .dataframe tbody tr th {\n",
       "        vertical-align: top;\n",
       "    }\n",
       "\n",
       "    .dataframe thead th {\n",
       "        text-align: right;\n",
       "    }\n",
       "</style>\n",
       "<table border=\"1\" class=\"dataframe\">\n",
       "  <thead>\n",
       "    <tr style=\"text-align: right;\">\n",
       "      <th></th>\n",
       "      <th>algo</th>\n",
       "      <th>packing</th>\n",
       "      <th>test_case</th>\n",
       "      <th>boxes_count</th>\n",
       "    </tr>\n",
       "  </thead>\n",
       "  <tbody>\n",
       "    <tr>\n",
       "      <th>51</th>\n",
       "      <td>3</td>\n",
       "      <td>&lt;class 'rectpack.maxrects.MaxRectsBaf'&gt;</td>\n",
       "      <td>bp_50_01.txt</td>\n",
       "      <td>2</td>\n",
       "    </tr>\n",
       "    <tr>\n",
       "      <th>69</th>\n",
       "      <td>3</td>\n",
       "      <td>&lt;class 'rectpack.guillotine.GuillotineBafSlas'&gt;</td>\n",
       "      <td>bp_50_01.txt</td>\n",
       "      <td>2</td>\n",
       "    </tr>\n",
       "    <tr>\n",
       "      <th>68</th>\n",
       "      <td>1</td>\n",
       "      <td>&lt;class 'rectpack.guillotine.GuillotineBlsfSlas'&gt;</td>\n",
       "      <td>bp_50_01.txt</td>\n",
       "      <td>2</td>\n",
       "    </tr>\n",
       "    <tr>\n",
       "      <th>67</th>\n",
       "      <td>2</td>\n",
       "      <td>&lt;class 'rectpack.guillotine.GuillotineBlsfSlas'&gt;</td>\n",
       "      <td>bp_50_01.txt</td>\n",
       "      <td>2</td>\n",
       "    </tr>\n",
       "    <tr>\n",
       "      <th>65</th>\n",
       "      <td>1</td>\n",
       "      <td>&lt;class 'rectpack.guillotine.GuillotineBafMinas'&gt;</td>\n",
       "      <td>bp_50_01.txt</td>\n",
       "      <td>2</td>\n",
       "    </tr>\n",
       "    <tr>\n",
       "      <th>64</th>\n",
       "      <td>2</td>\n",
       "      <td>&lt;class 'rectpack.guillotine.GuillotineBafMinas'&gt;</td>\n",
       "      <td>bp_50_01.txt</td>\n",
       "      <td>2</td>\n",
       "    </tr>\n",
       "    <tr>\n",
       "      <th>63</th>\n",
       "      <td>3</td>\n",
       "      <td>&lt;class 'rectpack.guillotine.GuillotineBafMinas'&gt;</td>\n",
       "      <td>bp_50_01.txt</td>\n",
       "      <td>2</td>\n",
       "    </tr>\n",
       "    <tr>\n",
       "      <th>62</th>\n",
       "      <td>1</td>\n",
       "      <td>&lt;class 'rectpack.guillotine.GuillotineBafLas'&gt;</td>\n",
       "      <td>bp_50_01.txt</td>\n",
       "      <td>2</td>\n",
       "    </tr>\n",
       "    <tr>\n",
       "      <th>70</th>\n",
       "      <td>2</td>\n",
       "      <td>&lt;class 'rectpack.guillotine.GuillotineBafSlas'&gt;</td>\n",
       "      <td>bp_50_01.txt</td>\n",
       "      <td>2</td>\n",
       "    </tr>\n",
       "    <tr>\n",
       "      <th>71</th>\n",
       "      <td>1</td>\n",
       "      <td>&lt;class 'rectpack.guillotine.GuillotineBafSlas'&gt;</td>\n",
       "      <td>bp_50_01.txt</td>\n",
       "      <td>2</td>\n",
       "    </tr>\n",
       "    <tr>\n",
       "      <th>59</th>\n",
       "      <td>1</td>\n",
       "      <td>&lt;class 'rectpack.maxrects.MaxRectsBssf'&gt;</td>\n",
       "      <td>bp_50_01.txt</td>\n",
       "      <td>2</td>\n",
       "    </tr>\n",
       "    <tr>\n",
       "      <th>58</th>\n",
       "      <td>2</td>\n",
       "      <td>&lt;class 'rectpack.maxrects.MaxRectsBssf'&gt;</td>\n",
       "      <td>bp_50_01.txt</td>\n",
       "      <td>2</td>\n",
       "    </tr>\n",
       "    <tr>\n",
       "      <th>57</th>\n",
       "      <td>3</td>\n",
       "      <td>&lt;class 'rectpack.maxrects.MaxRectsBssf'&gt;</td>\n",
       "      <td>bp_50_01.txt</td>\n",
       "      <td>2</td>\n",
       "    </tr>\n",
       "    <tr>\n",
       "      <th>56</th>\n",
       "      <td>1</td>\n",
       "      <td>&lt;class 'rectpack.maxrects.MaxRectsBlsf'&gt;</td>\n",
       "      <td>bp_50_01.txt</td>\n",
       "      <td>2</td>\n",
       "    </tr>\n",
       "    <tr>\n",
       "      <th>55</th>\n",
       "      <td>2</td>\n",
       "      <td>&lt;class 'rectpack.maxrects.MaxRectsBlsf'&gt;</td>\n",
       "      <td>bp_50_01.txt</td>\n",
       "      <td>2</td>\n",
       "    </tr>\n",
       "    <tr>\n",
       "      <th>54</th>\n",
       "      <td>3</td>\n",
       "      <td>&lt;class 'rectpack.maxrects.MaxRectsBlsf'&gt;</td>\n",
       "      <td>bp_50_01.txt</td>\n",
       "      <td>2</td>\n",
       "    </tr>\n",
       "    <tr>\n",
       "      <th>53</th>\n",
       "      <td>1</td>\n",
       "      <td>&lt;class 'rectpack.maxrects.MaxRectsBaf'&gt;</td>\n",
       "      <td>bp_50_01.txt</td>\n",
       "      <td>2</td>\n",
       "    </tr>\n",
       "    <tr>\n",
       "      <th>52</th>\n",
       "      <td>2</td>\n",
       "      <td>&lt;class 'rectpack.maxrects.MaxRectsBaf'&gt;</td>\n",
       "      <td>bp_50_01.txt</td>\n",
       "      <td>2</td>\n",
       "    </tr>\n",
       "    <tr>\n",
       "      <th>60</th>\n",
       "      <td>3</td>\n",
       "      <td>&lt;class 'rectpack.guillotine.GuillotineBafLas'&gt;</td>\n",
       "      <td>bp_50_01.txt</td>\n",
       "      <td>2</td>\n",
       "    </tr>\n",
       "    <tr>\n",
       "      <th>66</th>\n",
       "      <td>3</td>\n",
       "      <td>&lt;class 'rectpack.guillotine.GuillotineBlsfSlas'&gt;</td>\n",
       "      <td>bp_50_01.txt</td>\n",
       "      <td>3</td>\n",
       "    </tr>\n",
       "    <tr>\n",
       "      <th>61</th>\n",
       "      <td>2</td>\n",
       "      <td>&lt;class 'rectpack.guillotine.GuillotineBafLas'&gt;</td>\n",
       "      <td>bp_50_01.txt</td>\n",
       "      <td>3</td>\n",
       "    </tr>\n",
       "  </tbody>\n",
       "</table>\n",
       "</div>"
      ],
      "text/plain": [
       "   algo                                           packing     test_case  \\\n",
       "51    3           <class 'rectpack.maxrects.MaxRectsBaf'>  bp_50_01.txt   \n",
       "69    3   <class 'rectpack.guillotine.GuillotineBafSlas'>  bp_50_01.txt   \n",
       "68    1  <class 'rectpack.guillotine.GuillotineBlsfSlas'>  bp_50_01.txt   \n",
       "67    2  <class 'rectpack.guillotine.GuillotineBlsfSlas'>  bp_50_01.txt   \n",
       "65    1  <class 'rectpack.guillotine.GuillotineBafMinas'>  bp_50_01.txt   \n",
       "64    2  <class 'rectpack.guillotine.GuillotineBafMinas'>  bp_50_01.txt   \n",
       "63    3  <class 'rectpack.guillotine.GuillotineBafMinas'>  bp_50_01.txt   \n",
       "62    1    <class 'rectpack.guillotine.GuillotineBafLas'>  bp_50_01.txt   \n",
       "70    2   <class 'rectpack.guillotine.GuillotineBafSlas'>  bp_50_01.txt   \n",
       "71    1   <class 'rectpack.guillotine.GuillotineBafSlas'>  bp_50_01.txt   \n",
       "59    1          <class 'rectpack.maxrects.MaxRectsBssf'>  bp_50_01.txt   \n",
       "58    2          <class 'rectpack.maxrects.MaxRectsBssf'>  bp_50_01.txt   \n",
       "57    3          <class 'rectpack.maxrects.MaxRectsBssf'>  bp_50_01.txt   \n",
       "56    1          <class 'rectpack.maxrects.MaxRectsBlsf'>  bp_50_01.txt   \n",
       "55    2          <class 'rectpack.maxrects.MaxRectsBlsf'>  bp_50_01.txt   \n",
       "54    3          <class 'rectpack.maxrects.MaxRectsBlsf'>  bp_50_01.txt   \n",
       "53    1           <class 'rectpack.maxrects.MaxRectsBaf'>  bp_50_01.txt   \n",
       "52    2           <class 'rectpack.maxrects.MaxRectsBaf'>  bp_50_01.txt   \n",
       "60    3    <class 'rectpack.guillotine.GuillotineBafLas'>  bp_50_01.txt   \n",
       "66    3  <class 'rectpack.guillotine.GuillotineBlsfSlas'>  bp_50_01.txt   \n",
       "61    2    <class 'rectpack.guillotine.GuillotineBafLas'>  bp_50_01.txt   \n",
       "\n",
       "   boxes_count  \n",
       "51           2  \n",
       "69           2  \n",
       "68           2  \n",
       "67           2  \n",
       "65           2  \n",
       "64           2  \n",
       "63           2  \n",
       "62           2  \n",
       "70           2  \n",
       "71           2  \n",
       "59           2  \n",
       "58           2  \n",
       "57           2  \n",
       "56           2  \n",
       "55           2  \n",
       "54           2  \n",
       "53           2  \n",
       "52           2  \n",
       "60           2  \n",
       "66           3  \n",
       "61           3  "
      ]
     },
     "execution_count": 67,
     "metadata": {},
     "output_type": "execute_result"
    }
   ],
   "source": [
    "df[df['test_case'] == cases[-39]].sort_values('boxes_count')"
   ]
  },
  {
   "cell_type": "code",
   "execution_count": 71,
   "id": "d62befd1",
   "metadata": {},
   "outputs": [
    {
     "data": {
      "text/plain": [
       "test_case\n",
       "bp_10000_0.txt     735\n",
       "bp_10000_1.txt    3025\n",
       "bp_10000_2.txt    2572\n",
       "bp_10000_3.txt     757\n",
       "bp_10000_4.txt    1227\n",
       "bp_1000_0.txt       74\n",
       "bp_1000_1.txt      507\n",
       "bp_1000_2.txt      405\n",
       "bp_1000_3.txt      199\n",
       "bp_2000_0.txt      152\n",
       "bp_2000_1.txt      246\n",
       "bp_2000_2.txt      621\n",
       "bp_5000_0.txt     1452\n",
       "bp_5000_1.txt      379\n",
       "bp_5000_2.txt      614\n",
       "bp_5000_3.txt     1511\n",
       "bp_50_00.txt         2\n",
       "bp_50_01.txt         2\n",
       "bp_50_02.txt         3\n",
       "bp_50_03.txt         3\n",
       "bp_50_04.txt         4\n",
       "bp_50_05.txt         4\n",
       "bp_50_06.txt         6\n",
       "bp_50_07.txt         5\n",
       "bp_50_08.txt         7\n",
       "bp_50_09.txt         8\n",
       "bp_50_10.txt        26\n",
       "bp_50_11.txt        26\n",
       "bp_50_12.txt        26\n",
       "bp_50_13.txt        26\n",
       "bp_50_14.txt        26\n",
       "bp_50_15.txt        26\n",
       "bp_50_16.txt        26\n",
       "bp_50_17.txt        26\n",
       "bp_50_18.txt        26\n",
       "bp_50_19.txt        26\n",
       "bp_50_20.txt        23\n",
       "bp_50_21.txt        20\n",
       "bp_50_22.txt        20\n",
       "bp_50_23.txt        19\n",
       "bp_50_24.txt        23\n",
       "bp_50_25.txt        21\n",
       "bp_50_26.txt        19\n",
       "bp_50_27.txt        22\n",
       "bp_50_28.txt        18\n",
       "bp_50_29.txt        23\n",
       "bp_50_30.txt        11\n",
       "bp_50_31.txt        11\n",
       "bp_50_32.txt        11\n",
       "bp_50_33.txt        11\n",
       "bp_50_34.txt        11\n",
       "bp_50_35.txt        11\n",
       "bp_50_36.txt        11\n",
       "bp_50_37.txt        11\n",
       "bp_50_38.txt        11\n",
       "bp_50_39.txt        11\n",
       "Name: boxes_count, dtype: int64"
      ]
     },
     "execution_count": 71,
     "metadata": {},
     "output_type": "execute_result"
    }
   ],
   "source": [
    "df.groupby('test_case')['boxes_count'].min()"
   ]
  },
  {
   "cell_type": "code",
   "execution_count": null,
   "id": "29de5dc9",
   "metadata": {},
   "outputs": [],
   "source": [
    "plot_packing_state(state, fname=f\"./vis/{name}_result\")"
   ]
  }
 ],
 "metadata": {
  "kernelspec": {
   "display_name": "Python 3 (ipykernel)",
   "language": "python",
   "name": "python3"
  },
  "language_info": {
   "codemirror_mode": {
    "name": "ipython",
    "version": 3
   },
   "file_extension": ".py",
   "mimetype": "text/x-python",
   "name": "python",
   "nbconvert_exporter": "python",
   "pygments_lexer": "ipython3",
   "version": "3.8.5"
  }
 },
 "nbformat": 4,
 "nbformat_minor": 5
}
