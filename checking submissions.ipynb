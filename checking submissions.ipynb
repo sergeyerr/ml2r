{
 "cells": [
  {
   "cell_type": "code",
   "execution_count": 1,
   "id": "e442f32b",
   "metadata": {},
   "outputs": [],
   "source": [
    "from ShakerBFDProMax import ShakerBFDProMax\n",
    "from converterFromRectPack import convert\n",
    "from Base.bpReadWrite import ReadWrite"
   ]
  },
  {
   "cell_type": "code",
   "execution_count": null,
   "id": "b737666d",
   "metadata": {},
   "outputs": [],
   "source": [
    "ReadWrite.read_state(path=path.join(input_folder, case))"
   ]
  }
 ],
 "metadata": {
  "kernelspec": {
   "display_name": "Python 3 (ipykernel)",
   "language": "python",
   "name": "python3"
  },
  "language_info": {
   "codemirror_mode": {
    "name": "ipython",
    "version": 3
   },
   "file_extension": ".py",
   "mimetype": "text/x-python",
   "name": "python",
   "nbconvert_exporter": "python",
   "pygments_lexer": "ipython3",
   "version": "3.8.5"
  }
 },
 "nbformat": 4,
 "nbformat_minor": 5
}
