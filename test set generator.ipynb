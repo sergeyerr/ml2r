{
 "cells": [
  {
   "cell_type": "code",
   "execution_count": 24,
   "id": "c50a7f5c",
   "metadata": {},
   "outputs": [],
   "source": [
    "import Base.bp2DState\n",
    "from Base.bp2DSimpleHeuristics import single_type_heuristic, first_fit, next_fit, most_enclosed_position, max_rest, \\\n",
    "    best_fit, first_fit_decreasing, next_fit_decreasing, get_all_heuristics, random_fit\n",
    "from Base.bp2DState import State\n",
    "from Base.bpReadWrite import ReadWrite\n",
    "from Base.bp2DBox import Box\n",
    "from Base.bpStateGenerators import random_state_generator, state_generator,sliced_box_state_generator \n",
    "import time\n",
    "\n",
    "from Base.bp2DPlot import plot_packing_state\n",
    "from Base.bp2DSimpleHeuristicsFunctions import most_enclosed_position_in_bin\n",
    "from Base.bp2DState import Bin\n",
    "from Base.bp2DState import Action, State\n",
    "from Base.bpUtil import *\n",
    "from Base.bpStateGenerators import random_state_generator\n",
    "import matplotlib.pyplot as plt"
   ]
  },
  {
   "cell_type": "code",
   "execution_count": 30,
   "id": "7a0f5b1e",
   "metadata": {},
   "outputs": [],
   "source": [
    "from os.path import join as path_join #problem with names"
   ]
  },
  {
   "cell_type": "code",
   "execution_count": 26,
   "id": "ed8ea014",
   "metadata": {},
   "outputs": [],
   "source": [
    "sizes = [50, 100, 500, 1000]"
   ]
  },
  {
   "cell_type": "code",
   "execution_count": 27,
   "id": "88327ced",
   "metadata": {},
   "outputs": [],
   "source": [
    "folder = 'our_tests'"
   ]
  },
  {
   "cell_type": "markdown",
   "id": "38f27b3e",
   "metadata": {},
   "source": [
    "### extreme data"
   ]
  },
  {
   "cell_type": "code",
   "execution_count": 32,
   "id": "b34342a7",
   "metadata": {},
   "outputs": [],
   "source": [
    "for count in sizes:\n",
    "    test_state = random_state_generator((10, 10),count // 2,1,3,1,3)\n",
    "    for box in random_state_generator((10, 10),count // 2,8,10,8,10).boxes_open:\n",
    "        test_state.append_open_box(box)\n",
    "    path = path_join(folder, f\"extremes_{count}\")\n",
    "\n",
    "    ReadWrite.write_state(path=path, state=test_state)"
   ]
  },
  {
   "cell_type": "markdown",
   "id": "13807c05",
   "metadata": {},
   "source": [
    "### medium data"
   ]
  },
  {
   "cell_type": "code",
   "execution_count": 33,
   "id": "bfc40104",
   "metadata": {},
   "outputs": [],
   "source": [
    "for count in sizes:\n",
    "    test_state = random_state_generator((10, 10),count,4,7,4,7)\n",
    "    path = path_join(folder, f\"meduim_{count}\")\n",
    "\n",
    "    ReadWrite.write_state(path=path, state=test_state)"
   ]
  },
  {
   "cell_type": "markdown",
   "id": "de5579d7",
   "metadata": {},
   "source": [
    "### small data"
   ]
  },
  {
   "cell_type": "code",
   "execution_count": 34,
   "id": "0462af31",
   "metadata": {},
   "outputs": [],
   "source": [
    "for count in sizes:\n",
    "    test_state = random_state_generator((10, 10),count,1,3,1,3)\n",
    "    path = path_join(folder, f\"small_{count}\")\n",
    "\n",
    "    ReadWrite.write_state(path=path, state=test_state)"
   ]
  },
  {
   "cell_type": "markdown",
   "id": "628463ac",
   "metadata": {},
   "source": [
    "### uniform data"
   ]
  },
  {
   "cell_type": "code",
   "execution_count": 35,
   "id": "8e4c54d9",
   "metadata": {},
   "outputs": [],
   "source": [
    "for count in sizes:\n",
    "    test_state = random_state_generator((10, 10),count,1,10,1,10)\n",
    "    path = path_join(folder, f\"uniform_{count}\")\n",
    "\n",
    "    ReadWrite.write_state(path=path, state=test_state)"
   ]
  },
  {
   "cell_type": "markdown",
   "id": "638df2f1",
   "metadata": {},
   "source": [
    "### already known data"
   ]
  },
  {
   "cell_type": "code",
   "execution_count": 36,
   "id": "1c2039a1",
   "metadata": {},
   "outputs": [],
   "source": [
    "for count in sizes:\n",
    "    sliced = sliced_box_state_generator((10,10), bin_num=count // 15, box_num=count, peel_area= 0)\n",
    "    test_state = random_state_generator((10, 10),0,1,3,1,3)\n",
    "    for box in [box for b in test.bins for box in b.boxes_stored]:\n",
    "            test_state.append_open_box(box)\n",
    "    path = path_join(folder, f\"known_{count}_bins_{count // 15}\")\n",
    "    ReadWrite.write_state(path=path, state=test_state)"
   ]
  },
  {
   "cell_type": "code",
   "execution_count": null,
   "id": "a43ea3ac",
   "metadata": {},
   "outputs": [],
   "source": []
  }
 ],
 "metadata": {
  "kernelspec": {
   "display_name": "Python 3 (ipykernel)",
   "language": "python",
   "name": "python3"
  },
  "language_info": {
   "codemirror_mode": {
    "name": "ipython",
    "version": 3
   },
   "file_extension": ".py",
   "mimetype": "text/x-python",
   "name": "python",
   "nbconvert_exporter": "python",
   "pygments_lexer": "ipython3",
   "version": "3.8.5"
  }
 },
 "nbformat": 4,
 "nbformat_minor": 5
}
